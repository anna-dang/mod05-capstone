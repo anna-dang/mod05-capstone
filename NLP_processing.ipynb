{
 "cells": [
  {
   "cell_type": "markdown",
   "metadata": {},
   "source": [
    "### Hotel Review Classifier (working title)\n",
    "\n",
    "*Flatiron School Data Science Bootcamp*\n",
    "\n",
    "Captsone Project - NLP Sentiment/Ratings Analysis\n",
    "\n",
    "Anna D'Angela | [annaadangela@gmail.com](annaadangela@gmail.com)\n",
    "\n",
    "[Return to GitHub](https://github.com/anna-dang/mod05-capstone)\n"
   ]
  },
  {
   "cell_type": "markdown",
   "metadata": {},
   "source": [
    "# TODO\n",
    "- upgrade plot design\n",
    "- EDA : heat map of data sources\n",
    "- train/test split\n",
    "- actual NLP...\n",
    "- visuals: word cloud, freq dist, etc.\n",
    "- baseline model \n"
   ]
  },
  {
   "cell_type": "code",
   "execution_count": 114,
   "metadata": {},
   "outputs": [],
   "source": [
    "import pandas as pd\n",
    "import matplotlib.pyplot as plt\n",
    "from sklearn.model_selection import train_test_split\n",
    "\n",
    "import plotly.graph_objects as go\n",
    "import pandas as pd\n",
    "import numpy as np\n",
    "\n",
    "seed = 619\n",
    "\n",
    "import nltk\n",
    "%matplotlib inline\n",
    "\n",
    "import warnings\n",
    "warnings.filterwarnings('ignore')"
   ]
  },
  {
   "cell_type": "markdown",
   "metadata": {},
   "source": [
    "### Import data and explore"
   ]
  },
  {
   "cell_type": "code",
   "execution_count": 103,
   "metadata": {},
   "outputs": [
    {
     "data": {
      "text/html": [
       "<div>\n",
       "<style scoped>\n",
       "    .dataframe tbody tr th:only-of-type {\n",
       "        vertical-align: middle;\n",
       "    }\n",
       "\n",
       "    .dataframe tbody tr th {\n",
       "        vertical-align: top;\n",
       "    }\n",
       "\n",
       "    .dataframe thead th {\n",
       "        text-align: right;\n",
       "    }\n",
       "</style>\n",
       "<table border=\"1\" class=\"dataframe\">\n",
       "  <thead>\n",
       "    <tr style=\"text-align: right;\">\n",
       "      <th></th>\n",
       "      <th>Location</th>\n",
       "      <th>Hotel</th>\n",
       "      <th>Title</th>\n",
       "      <th>Review</th>\n",
       "      <th>Rating</th>\n",
       "    </tr>\n",
       "  </thead>\n",
       "  <tbody>\n",
       "    <tr>\n",
       "      <th>0</th>\n",
       "      <td>Denver, CO</td>\n",
       "      <td>Hyatt Regency Denver At Colorado Convention Ce...</td>\n",
       "      <td>Great View</td>\n",
       "      <td>Easy check in and check out process using the ...</td>\n",
       "      <td>5</td>\n",
       "    </tr>\n",
       "    <tr>\n",
       "      <th>1</th>\n",
       "      <td>Denver, CO</td>\n",
       "      <td>Hyatt Regency Denver At Colorado Convention Ce...</td>\n",
       "      <td>Clean and Comfortable</td>\n",
       "      <td>We needed a last-minute place to stay in Denve...</td>\n",
       "      <td>5</td>\n",
       "    </tr>\n",
       "    <tr>\n",
       "      <th>2</th>\n",
       "      <td>Denver, CO</td>\n",
       "      <td>Hyatt Regency Denver At Colorado Convention Ce...</td>\n",
       "      <td>Excellent Staff &amp; Service</td>\n",
       "      <td>We love Hyatt hotels and have had many great e...</td>\n",
       "      <td>5</td>\n",
       "    </tr>\n",
       "    <tr>\n",
       "      <th>3</th>\n",
       "      <td>Denver, CO</td>\n",
       "      <td>Hyatt Regency Denver At Colorado Convention Ce...</td>\n",
       "      <td>Trip to Denver - a Hallmark Christmas</td>\n",
       "      <td>I have never encountered such helpful, friendl...</td>\n",
       "      <td>5</td>\n",
       "    </tr>\n",
       "    <tr>\n",
       "      <th>4</th>\n",
       "      <td>Denver, CO</td>\n",
       "      <td>Hyatt Regency Denver At Colorado Convention Ce...</td>\n",
       "      <td>Our 'see downtown' hotel</td>\n",
       "      <td>We love it here! Great service, they usually r...</td>\n",
       "      <td>5</td>\n",
       "    </tr>\n",
       "  </tbody>\n",
       "</table>\n",
       "</div>"
      ],
      "text/plain": [
       "     Location                                              Hotel  \\\n",
       "0  Denver, CO  Hyatt Regency Denver At Colorado Convention Ce...   \n",
       "1  Denver, CO  Hyatt Regency Denver At Colorado Convention Ce...   \n",
       "2  Denver, CO  Hyatt Regency Denver At Colorado Convention Ce...   \n",
       "3  Denver, CO  Hyatt Regency Denver At Colorado Convention Ce...   \n",
       "4  Denver, CO  Hyatt Regency Denver At Colorado Convention Ce...   \n",
       "\n",
       "                                   Title  \\\n",
       "0                             Great View   \n",
       "1                  Clean and Comfortable   \n",
       "2              Excellent Staff & Service   \n",
       "3  Trip to Denver - a Hallmark Christmas   \n",
       "4               Our 'see downtown' hotel   \n",
       "\n",
       "                                              Review  Rating  \n",
       "0  Easy check in and check out process using the ...       5  \n",
       "1  We needed a last-minute place to stay in Denve...       5  \n",
       "2  We love Hyatt hotels and have had many great e...       5  \n",
       "3  I have never encountered such helpful, friendl...       5  \n",
       "4  We love it here! Great service, they usually r...       5  "
      ]
     },
     "metadata": {},
     "output_type": "display_data"
    },
    {
     "name": "stdout",
     "output_type": "stream",
     "text": [
      "<class 'pandas.core.frame.DataFrame'>\n",
      "RangeIndex: 22217 entries, 0 to 22216\n",
      "Data columns (total 5 columns):\n",
      " #   Column    Non-Null Count  Dtype \n",
      "---  ------    --------------  ----- \n",
      " 0   Location  22217 non-null  object\n",
      " 1   Hotel     22217 non-null  object\n",
      " 2   Title     22217 non-null  object\n",
      " 3   Review    22217 non-null  object\n",
      " 4   Rating    22217 non-null  int64 \n",
      "dtypes: int64(1), object(4)\n",
      "memory usage: 868.0+ KB\n"
     ]
    }
   ],
   "source": [
    "# import test data\n",
    "df_raw = pd.read_csv(\"./data/clean_scrape.csv\")\n",
    "display(df_raw.head())\n",
    "\n",
    "# check for null/value types\n",
    "df_raw.info()"
   ]
  },
  {
   "cell_type": "code",
   "execution_count": 104,
   "metadata": {},
   "outputs": [
    {
     "data": {
      "image/png": "[encoded data removed]",
      "text/plain": [
       "<Figure size 432x288 with 1 Axes>"
      ]
     },
     "metadata": {
      "needs_background": "light"
     },
     "output_type": "display_data"
    }
   ],
   "source": [
    "# Examine class distribution by count\n",
    "df_raw['Rating'].value_counts().plot(kind='bar', rot = 0);\n",
    "plt.title(\"Distribution of Ratings\")\n",
    "plt.xlabel('Rating')\n",
    "plt.ylabel(\"Count\")\n",
    "plt.show()"
   ]
  },
  {
   "cell_type": "code",
   "execution_count": 106,
   "metadata": {
    "scrolled": true
   },
   "outputs": [
    {
     "data": {
      "text/html": [
       "<div>\n",
       "<style scoped>\n",
       "    .dataframe tbody tr th:only-of-type {\n",
       "        vertical-align: middle;\n",
       "    }\n",
       "\n",
       "    .dataframe tbody tr th {\n",
       "        vertical-align: top;\n",
       "    }\n",
       "\n",
       "    .dataframe thead th {\n",
       "        text-align: right;\n",
       "    }\n",
       "</style>\n",
       "<table border=\"1\" class=\"dataframe\">\n",
       "  <thead>\n",
       "    <tr style=\"text-align: right;\">\n",
       "      <th></th>\n",
       "      <th>Percent %</th>\n",
       "    </tr>\n",
       "    <tr>\n",
       "      <th>Rating</th>\n",
       "      <th></th>\n",
       "    </tr>\n",
       "  </thead>\n",
       "  <tbody>\n",
       "    <tr>\n",
       "      <th>5</th>\n",
       "      <td>47.36</td>\n",
       "    </tr>\n",
       "    <tr>\n",
       "      <th>4</th>\n",
       "      <td>26.66</td>\n",
       "    </tr>\n",
       "    <tr>\n",
       "      <th>3</th>\n",
       "      <td>13.62</td>\n",
       "    </tr>\n",
       "    <tr>\n",
       "      <th>2</th>\n",
       "      <td>6.69</td>\n",
       "    </tr>\n",
       "    <tr>\n",
       "      <th>1</th>\n",
       "      <td>5.67</td>\n",
       "    </tr>\n",
       "  </tbody>\n",
       "</table>\n",
       "</div>"
      ],
      "text/plain": [
       "        Percent %\n",
       "Rating           \n",
       "5           47.36\n",
       "4           26.66\n",
       "3           13.62\n",
       "2            6.69\n",
       "1            5.67"
      ]
     },
     "execution_count": 106,
     "metadata": {},
     "output_type": "execute_result"
    }
   ],
   "source": [
    "# Examine imbalance as percentage\n",
    "percent = round(df_raw['Rating'].value_counts(1).to_frame(name='Percent %').rename_axis('Rating') * 100, 2)\n",
    "percent"
   ]
  },
  {
   "cell_type": "markdown",
   "metadata": {},
   "source": [
    "There is a significant imbalance in classes. First I will randomly undersample the most major class, 5 by equalizing the amount with the second highest class, 4. This is to reduce the dimensions for the model by growing the total corpus largely positive."
   ]
  },
  {
   "cell_type": "code",
   "execution_count": 107,
   "metadata": {},
   "outputs": [
    {
     "data": {
      "text/plain": [
       "4600"
      ]
     },
     "execution_count": 107,
     "metadata": {},
     "output_type": "execute_result"
    }
   ],
   "source": [
    "tot_5 = df_raw[df_raw['Rating'] == 5].count()[0] \n",
    "tot_4 = df_raw[df_raw['Rating'] == 4].count()[0] \n",
    "drop_n = tot_5 - tot_4\n",
    "drop_n"
   ]
  },
  {
   "cell_type": "code",
   "execution_count": 110,
   "metadata": {},
   "outputs": [
    {
     "data": {
      "image/png": "[encoded data removed]",
      "text/plain": [
       "<Figure size 432x288 with 1 Axes>"
      ]
     },
     "metadata": {
      "needs_background": "light"
     },
     "output_type": "display_data"
    }
   ],
   "source": [
    "test = df_raw.drop(df_raw[df_raw['Rating'].eq(5)].sample(drop_n, random_state=seed).index)\n",
    "\n",
    "# Examine class distribution by randomly reducing the most major class\n",
    "test['Rating'].value_counts().plot(kind='bar', rot = 0);\n",
    "plt.title(\"Distribution of Ratings\")\n",
    "plt.xlabel('Rating')\n",
    "plt.ylabel(\"Count\")\n",
    "plt.show()"
   ]
  },
  {
   "cell_type": "markdown",
   "metadata": {},
   "source": [
    "Remaining class imbalance is less sever, I will address this by using class weights when modeling."
   ]
  },
  {
   "cell_type": "markdown",
   "metadata": {},
   "source": [
    "### Collection distribution"
   ]
  },
  {
   "cell_type": "code",
   "execution_count": 128,
   "metadata": {
    "scrolled": true
   },
   "outputs": [
    {
     "data": {
      "text/html": [
       "<div>\n",
       "<style scoped>\n",
       "    .dataframe tbody tr th:only-of-type {\n",
       "        vertical-align: middle;\n",
       "    }\n",
       "\n",
       "    .dataframe tbody tr th {\n",
       "        vertical-align: top;\n",
       "    }\n",
       "\n",
       "    .dataframe thead th {\n",
       "        text-align: right;\n",
       "    }\n",
       "</style>\n",
       "<table border=\"1\" class=\"dataframe\">\n",
       "  <thead>\n",
       "    <tr style=\"text-align: right;\">\n",
       "      <th></th>\n",
       "      <th>Hotel</th>\n",
       "      <th>(Rating, count)</th>\n",
       "      <th>(Rating, mean)</th>\n",
       "      <th>Lat</th>\n",
       "      <th>Long</th>\n",
       "    </tr>\n",
       "  </thead>\n",
       "  <tbody>\n",
       "    <tr>\n",
       "      <th>0</th>\n",
       "      <td>Baymont by Wyndham Denver International Airport</td>\n",
       "      <td>2094</td>\n",
       "      <td>3.949379</td>\n",
       "      <td>39.820740</td>\n",
       "      <td>-104.770119</td>\n",
       "    </tr>\n",
       "    <tr>\n",
       "      <th>1</th>\n",
       "      <td>Best Western Plus Denver International Airport...</td>\n",
       "      <td>1000</td>\n",
       "      <td>3.633000</td>\n",
       "      <td>39.824161</td>\n",
       "      <td>-104.770178</td>\n",
       "    </tr>\n",
       "    <tr>\n",
       "      <th>2</th>\n",
       "      <td>Clarion Hotel Denver Central</td>\n",
       "      <td>920</td>\n",
       "      <td>3.372826</td>\n",
       "      <td>39.783300</td>\n",
       "      <td>-104.990895</td>\n",
       "    </tr>\n",
       "    <tr>\n",
       "      <th>3</th>\n",
       "      <td>DoubleTree by Hilton Hotel Denver</td>\n",
       "      <td>2000</td>\n",
       "      <td>3.859500</td>\n",
       "      <td>39.763101</td>\n",
       "      <td>-104.904370</td>\n",
       "    </tr>\n",
       "    <tr>\n",
       "      <th>4</th>\n",
       "      <td>Embassy Suites by Hilton Denver International ...</td>\n",
       "      <td>1000</td>\n",
       "      <td>3.996000</td>\n",
       "      <td>39.824143</td>\n",
       "      <td>-104.775354</td>\n",
       "    </tr>\n",
       "    <tr>\n",
       "      <th>5</th>\n",
       "      <td>Grand Hyatt Denver Downtown</td>\n",
       "      <td>1000</td>\n",
       "      <td>4.488000</td>\n",
       "      <td>39.745762</td>\n",
       "      <td>-104.988802</td>\n",
       "    </tr>\n",
       "    <tr>\n",
       "      <th>6</th>\n",
       "      <td>Hilton Denver City Center</td>\n",
       "      <td>1000</td>\n",
       "      <td>4.101000</td>\n",
       "      <td>39.747159</td>\n",
       "      <td>-104.990145</td>\n",
       "    </tr>\n",
       "    <tr>\n",
       "      <th>7</th>\n",
       "      <td>Hyatt Place Denver/Cherry Creek</td>\n",
       "      <td>995</td>\n",
       "      <td>4.156784</td>\n",
       "      <td>39.695828</td>\n",
       "      <td>-104.938547</td>\n",
       "    </tr>\n",
       "    <tr>\n",
       "      <th>8</th>\n",
       "      <td>Hyatt Regency Denver At Colorado Convention Ce...</td>\n",
       "      <td>2000</td>\n",
       "      <td>4.460000</td>\n",
       "      <td>39.744213</td>\n",
       "      <td>-104.993667</td>\n",
       "    </tr>\n",
       "    <tr>\n",
       "      <th>9</th>\n",
       "      <td>La Quinta Inn &amp; Suites by Wyndham Denver Airpo...</td>\n",
       "      <td>1000</td>\n",
       "      <td>3.803000</td>\n",
       "      <td>39.820897</td>\n",
       "      <td>-104.773078</td>\n",
       "    </tr>\n",
       "    <tr>\n",
       "      <th>10</th>\n",
       "      <td>Microtel Inn &amp; Suites by Wyndham Denver</td>\n",
       "      <td>1000</td>\n",
       "      <td>3.060000</td>\n",
       "      <td>39.810507</td>\n",
       "      <td>-104.769832</td>\n",
       "    </tr>\n",
       "    <tr>\n",
       "      <th>11</th>\n",
       "      <td>Sheraton Denver Downtown Hotel</td>\n",
       "      <td>1995</td>\n",
       "      <td>3.587970</td>\n",
       "      <td>39.742367</td>\n",
       "      <td>-104.988982</td>\n",
       "    </tr>\n",
       "    <tr>\n",
       "      <th>12</th>\n",
       "      <td>The Crawford Hotel</td>\n",
       "      <td>1214</td>\n",
       "      <td>4.727348</td>\n",
       "      <td>39.745828</td>\n",
       "      <td>-104.988888</td>\n",
       "    </tr>\n",
       "    <tr>\n",
       "      <th>13</th>\n",
       "      <td>The Curtis Denver - a DoubleTree by Hilton Hotel</td>\n",
       "      <td>2000</td>\n",
       "      <td>4.155500</td>\n",
       "      <td>39.745893</td>\n",
       "      <td>-104.997054</td>\n",
       "    </tr>\n",
       "    <tr>\n",
       "      <th>14</th>\n",
       "      <td>The Oxford Hotel</td>\n",
       "      <td>1000</td>\n",
       "      <td>4.719000</td>\n",
       "      <td>39.747227</td>\n",
       "      <td>-104.990269</td>\n",
       "    </tr>\n",
       "    <tr>\n",
       "      <th>15</th>\n",
       "      <td>The Westin Denver International Airport</td>\n",
       "      <td>999</td>\n",
       "      <td>4.369369</td>\n",
       "      <td>39.847806</td>\n",
       "      <td>-104.673824</td>\n",
       "    </tr>\n",
       "    <tr>\n",
       "      <th>16</th>\n",
       "      <td>Warwick Denver Hotel</td>\n",
       "      <td>1000</td>\n",
       "      <td>4.095000</td>\n",
       "      <td>39.744389</td>\n",
       "      <td>-104.983198</td>\n",
       "    </tr>\n",
       "  </tbody>\n",
       "</table>\n",
       "</div>"
      ],
      "text/plain": [
       "                                                Hotel  (Rating, count)  \\\n",
       "0     Baymont by Wyndham Denver International Airport             2094   \n",
       "1   Best Western Plus Denver International Airport...             1000   \n",
       "2                        Clarion Hotel Denver Central              920   \n",
       "3                   DoubleTree by Hilton Hotel Denver             2000   \n",
       "4   Embassy Suites by Hilton Denver International ...             1000   \n",
       "5                         Grand Hyatt Denver Downtown             1000   \n",
       "6                           Hilton Denver City Center             1000   \n",
       "7                     Hyatt Place Denver/Cherry Creek              995   \n",
       "8   Hyatt Regency Denver At Colorado Convention Ce...             2000   \n",
       "9   La Quinta Inn & Suites by Wyndham Denver Airpo...             1000   \n",
       "10            Microtel Inn & Suites by Wyndham Denver             1000   \n",
       "11                     Sheraton Denver Downtown Hotel             1995   \n",
       "12                                 The Crawford Hotel             1214   \n",
       "13   The Curtis Denver - a DoubleTree by Hilton Hotel             2000   \n",
       "14                                   The Oxford Hotel             1000   \n",
       "15            The Westin Denver International Airport              999   \n",
       "16                               Warwick Denver Hotel             1000   \n",
       "\n",
       "    (Rating, mean)        Lat        Long  \n",
       "0         3.949379  39.820740 -104.770119  \n",
       "1         3.633000  39.824161 -104.770178  \n",
       "2         3.372826  39.783300 -104.990895  \n",
       "3         3.859500  39.763101 -104.904370  \n",
       "4         3.996000  39.824143 -104.775354  \n",
       "5         4.488000  39.745762 -104.988802  \n",
       "6         4.101000  39.747159 -104.990145  \n",
       "7         4.156784  39.695828 -104.938547  \n",
       "8         4.460000  39.744213 -104.993667  \n",
       "9         3.803000  39.820897 -104.773078  \n",
       "10        3.060000  39.810507 -104.769832  \n",
       "11        3.587970  39.742367 -104.988982  \n",
       "12        4.727348  39.745828 -104.988888  \n",
       "13        4.155500  39.745893 -104.997054  \n",
       "14        4.719000  39.747227 -104.990269  \n",
       "15        4.369369  39.847806 -104.673824  \n",
       "16        4.095000  39.744389 -104.983198  "
      ]
     },
     "execution_count": 128,
     "metadata": {},
     "output_type": "execute_result"
    }
   ],
   "source": [
    "# Examine collection distribution by location\n",
    "avg_df = df_raw.groupby(by = 'Hotel')[['Rating']].agg(['count', 'mean'])\n",
    "\n",
    "coords = pd.read_csv(\"./data/coordinates.csv\", names = ['Hotel', 'Lat', 'Long'])\n",
    "\n",
    "map_df = pd.merge(avg_df, coords, on = 'Hotel')\n",
    "map_df"
   ]
  },
  {
   "cell_type": "code",
   "execution_count": 149,
   "metadata": {},
   "outputs": [
    {
     "ename": "ModuleNotFoundError",
     "evalue": "No module named 'geopandas'",
     "output_type": "error",
     "traceback": [
      "\u001b[0;31m---------------------------------------------------------------------------\u001b[0m",
      "\u001b[0;31mModuleNotFoundError\u001b[0m                       Traceback (most recent call last)",
      "\u001b[0;32m<ipython-input-149-3b4082b3da6e>\u001b[0m in \u001b[0;36m<module>\u001b[0;34m\u001b[0m\n\u001b[1;32m      1\u001b[0m \u001b[0;32mimport\u001b[0m \u001b[0mplotly\u001b[0m\u001b[0;34m.\u001b[0m\u001b[0mexpress\u001b[0m \u001b[0;32mas\u001b[0m \u001b[0mpx\u001b[0m\u001b[0;34m\u001b[0m\u001b[0;34m\u001b[0m\u001b[0m\n\u001b[0;32m----> 2\u001b[0;31m \u001b[0;32mimport\u001b[0m \u001b[0mgeopandas\u001b[0m \u001b[0;32mas\u001b[0m \u001b[0mgpd\u001b[0m\u001b[0;34m\u001b[0m\u001b[0;34m\u001b[0m\u001b[0m\n\u001b[0m\u001b[1;32m      3\u001b[0m \u001b[0;34m\u001b[0m\u001b[0m\n\u001b[1;32m      4\u001b[0m map_df['text'] = (map_df['Hotel'] + '' + 'Reviews:' + \n\u001b[1;32m      5\u001b[0m                   \u001b[0mmap_df\u001b[0m\u001b[0;34m[\u001b[0m\u001b[0;34m(\u001b[0m\u001b[0;34m'Rating'\u001b[0m\u001b[0;34m,\u001b[0m \u001b[0;34m'count'\u001b[0m\u001b[0;34m)\u001b[0m\u001b[0;34m]\u001b[0m\u001b[0;34m.\u001b[0m\u001b[0mastype\u001b[0m\u001b[0;34m(\u001b[0m\u001b[0mstr\u001b[0m\u001b[0;34m)\u001b[0m \u001b[0;34m+\u001b[0m \u001b[0;34m'Rating: '\u001b[0m\u001b[0;34m\u001b[0m\u001b[0;34m\u001b[0m\u001b[0m\n",
      "\u001b[0;31mModuleNotFoundError\u001b[0m: No module named 'geopandas'"
     ]
    }
   ],
   "source": [
    "# import plotly.express as px\n",
    "# import geopandas as gpd\n",
    "\n",
    "# map_df['text'] = (map_df['Hotel'] + '' + 'Reviews:' + \n",
    "#                   map_df[('Rating', 'count')].astype(str) + 'Rating: ' \n",
    "#                   + map_df[('Rating', 'mean')].astype(str))\n",
    "\n",
    "# geo_df = gpd.read_file(gpd.datasets.get_path('naturalearth_cities'))\n",
    "\n",
    "# #px.set_mapbox_access_token(open(\".mapbox_token\").read())\n",
    "# fig = px.scatter_mapbox(map_df,\n",
    "#                         lat='Lat',\n",
    "#                         lon='Long',\n",
    "#                         hover_name='text',\n",
    "#                         zoom=1)\n",
    "# fig.show()"
   ]
  },
  {
   "cell_type": "code",
   "execution_count": 143,
   "metadata": {},
   "outputs": [
    {
     "data": {
      "application/vnd.plotly.v1+json": {
       "config": {
        "plotlyServerURL": "https://plot.ly"
       },
       "data": [
        {
         "lat": [
          39.82073982427556,
          39.82416111700947,
          39.7832996101832,
          39.76310059792287,
          39.82414319715558,
          39.745762095613166,
          39.74715914118896,
          39.695828484888594,
          39.74421324167367,
          39.820897287168656,
          39.810507314523356,
          39.74236735213943,
          39.74582809187195,
          39.745892944830814,
          39.747227125280226,
          39.84780624873464,
          39.74438925065442
         ],
         "lon": [
          -104.77011855065636,
          -104.77017796489565,
          -104.99089453733916,
          -104.90437033652887,
          -104.77535439325943,
          -104.98880196621279,
          -104.99014490816748,
          -104.93854722042893,
          -104.99366698795806,
          -104.77307817712885,
          -104.7698320362622,
          -104.9889816221623,
          -104.98888779527724,
          -104.99705426595828,
          -104.99026938941044,
          -104.6738244648802,
          -104.98319849589843
         ],
         "marker": {
          "color": [
           3.9493791786055397,
           3.633,
           3.372826086956522,
           3.8595,
           3.996,
           4.488,
           4.101,
           4.15678391959799,
           4.46,
           3.803,
           3.06,
           3.5879699248120303,
           4.727347611202636,
           4.1555,
           4.719,
           4.36936936936937,
           4.095
          ]
         },
         "mode": "markers",
         "text": [
          "Baymont by Wyndham Denver International AirportReviews:2094Rating: 3.9493791786055397",
          "Best Western Plus Denver International Airport Inn & SuitesReviews:1000Rating: 3.633",
          "Clarion Hotel Denver CentralReviews:920Rating: 3.372826086956522",
          "DoubleTree by Hilton Hotel DenverReviews:2000Rating: 3.8595",
          "Embassy Suites by Hilton Denver International AirportReviews:1000Rating: 3.996",
          "Grand Hyatt Denver DowntownReviews:1000Rating: 4.488",
          "Hilton Denver City CenterReviews:1000Rating: 4.101",
          "Hyatt Place Denver/Cherry CreekReviews:995Rating: 4.15678391959799",
          "Hyatt Regency Denver At Colorado Convention CenterReviews:2000Rating: 4.46",
          "La Quinta Inn & Suites by Wyndham Denver Airport DiaReviews:1000Rating: 3.803",
          "Microtel Inn & Suites by Wyndham DenverReviews:1000Rating: 3.06",
          "Sheraton Denver Downtown HotelReviews:1995Rating: 3.5879699248120303",
          "The Crawford HotelReviews:1214Rating: 4.727347611202636",
          "The Curtis Denver - a DoubleTree by Hilton HotelReviews:2000Rating: 4.1555",
          "The Oxford HotelReviews:1000Rating: 4.719",
          "The Westin Denver International AirportReviews:999Rating: 4.36936936936937",
          "Warwick Denver HotelReviews:1000Rating: 4.095"
         ],
         "type": "scattergeo"
        }
       ],
       "layout": {
        "geo": {
         "center": {
          "lat": 39.7452,
          "lon": -104.9922
         },
         "projection": {
          "scale": 3000
         },
         "scope": "usa",
         "showland": true
        },
        "template": {
         "data": {
          "bar": [
           {
            "error_x": {
             "color": "#2a3f5f"
            },
            "error_y": {
             "color": "#2a3f5f"
            },
            "marker": {
             "line": {
              "color": "#E5ECF6",
              "width": 0.5
             }
            },
            "type": "bar"
           }
          ],
          "barpolar": [
           {
            "marker": {
             "line": {
              "color": "#E5ECF6",
              "width": 0.5
             }
            },
            "type": "barpolar"
           }
          ],
          "carpet": [
           {
            "aaxis": {
             "endlinecolor": "#2a3f5f",
             "gridcolor": "white",
             "linecolor": "white",
             "minorgridcolor": "white",
             "startlinecolor": "#2a3f5f"
            },
            "baxis": {
             "endlinecolor": "#2a3f5f",
             "gridcolor": "white",
             "linecolor": "white",
             "minorgridcolor": "white",
             "startlinecolor": "#2a3f5f"
            },
            "type": "carpet"
           }
          ],
          "choropleth": [
           {
            "colorbar": {
             "outlinewidth": 0,
             "ticks": ""
            },
            "type": "choropleth"
           }
          ],
          "contour": [
           {
            "colorbar": {
             "outlinewidth": 0,
             "ticks": ""
            },
            "colorscale": [
             [
              0,
              "#0d0887"
             ],
             [
              0.1111111111111111,
              "#46039f"
             ],
             [
              0.2222222222222222,
              "#7201a8"
             ],
             [
              0.3333333333333333,
              "#9c179e"
             ],
             [
              0.4444444444444444,
              "#bd3786"
             ],
             [
              0.5555555555555556,
              "#d8576b"
             ],
             [
              0.6666666666666666,
              "#ed7953"
             ],
             [
              0.7777777777777778,
              "#fb9f3a"
             ],
             [
              0.8888888888888888,
              "#fdca26"
             ],
             [
              1,
              "#f0f921"
             ]
            ],
            "type": "contour"
           }
          ],
          "contourcarpet": [
           {
            "colorbar": {
             "outlinewidth": 0,
             "ticks": ""
            },
            "type": "contourcarpet"
           }
          ],
          "heatmap": [
           {
            "colorbar": {
             "outlinewidth": 0,
             "ticks": ""
            },
            "colorscale": [
             [
              0,
              "#0d0887"
             ],
             [
              0.1111111111111111,
              "#46039f"
             ],
             [
              0.2222222222222222,
              "#7201a8"
             ],
             [
              0.3333333333333333,
              "#9c179e"
             ],
             [
              0.4444444444444444,
              "#bd3786"
             ],
             [
              0.5555555555555556,
              "#d8576b"
             ],
             [
              0.6666666666666666,
              "#ed7953"
             ],
             [
              0.7777777777777778,
              "#fb9f3a"
             ],
             [
              0.8888888888888888,
              "#fdca26"
             ],
             [
              1,
              "#f0f921"
             ]
            ],
            "type": "heatmap"
           }
          ],
          "heatmapgl": [
           {
            "colorbar": {
             "outlinewidth": 0,
             "ticks": ""
            },
            "colorscale": [
             [
              0,
              "#0d0887"
             ],
             [
              0.1111111111111111,
              "#46039f"
             ],
             [
              0.2222222222222222,
              "#7201a8"
             ],
             [
              0.3333333333333333,
              "#9c179e"
             ],
             [
              0.4444444444444444,
              "#bd3786"
             ],
             [
              0.5555555555555556,
              "#d8576b"
             ],
             [
              0.6666666666666666,
              "#ed7953"
             ],
             [
              0.7777777777777778,
              "#fb9f3a"
             ],
             [
              0.8888888888888888,
              "#fdca26"
             ],
             [
              1,
              "#f0f921"
             ]
            ],
            "type": "heatmapgl"
           }
          ],
          "histogram": [
           {
            "marker": {
             "colorbar": {
              "outlinewidth": 0,
              "ticks": ""
             }
            },
            "type": "histogram"
           }
          ],
          "histogram2d": [
           {
            "colorbar": {
             "outlinewidth": 0,
             "ticks": ""
            },
            "colorscale": [
             [
              0,
              "#0d0887"
             ],
             [
              0.1111111111111111,
              "#46039f"
             ],
             [
              0.2222222222222222,
              "#7201a8"
             ],
             [
              0.3333333333333333,
              "#9c179e"
             ],
             [
              0.4444444444444444,
              "#bd3786"
             ],
             [
              0.5555555555555556,
              "#d8576b"
             ],
             [
              0.6666666666666666,
              "#ed7953"
             ],
             [
              0.7777777777777778,
              "#fb9f3a"
             ],
             [
              0.8888888888888888,
              "#fdca26"
             ],
             [
              1,
              "#f0f921"
             ]
            ],
            "type": "histogram2d"
           }
          ],
          "histogram2dcontour": [
           {
            "colorbar": {
             "outlinewidth": 0,
             "ticks": ""
            },
            "colorscale": [
             [
              0,
              "#0d0887"
             ],
             [
              0.1111111111111111,
              "#46039f"
             ],
             [
              0.2222222222222222,
              "#7201a8"
             ],
             [
              0.3333333333333333,
              "#9c179e"
             ],
             [
              0.4444444444444444,
              "#bd3786"
             ],
             [
              0.5555555555555556,
              "#d8576b"
             ],
             [
              0.6666666666666666,
              "#ed7953"
             ],
             [
              0.7777777777777778,
              "#fb9f3a"
             ],
             [
              0.8888888888888888,
              "#fdca26"
             ],
             [
              1,
              "#f0f921"
             ]
            ],
            "type": "histogram2dcontour"
           }
          ],
          "mesh3d": [
           {
            "colorbar": {
             "outlinewidth": 0,
             "ticks": ""
            },
            "type": "mesh3d"
           }
          ],
          "parcoords": [
           {
            "line": {
             "colorbar": {
              "outlinewidth": 0,
              "ticks": ""
             }
            },
            "type": "parcoords"
           }
          ],
          "pie": [
           {
            "automargin": true,
            "type": "pie"
           }
          ],
          "scatter": [
           {
            "marker": {
             "colorbar": {
              "outlinewidth": 0,
              "ticks": ""
             }
            },
            "type": "scatter"
           }
          ],
          "scatter3d": [
           {
            "line": {
             "colorbar": {
              "outlinewidth": 0,
              "ticks": ""
             }
            },
            "marker": {
             "colorbar": {
              "outlinewidth": 0,
              "ticks": ""
             }
            },
            "type": "scatter3d"
           }
          ],
          "scattercarpet": [
           {
            "marker": {
             "colorbar": {
              "outlinewidth": 0,
              "ticks": ""
             }
            },
            "type": "scattercarpet"
           }
          ],
          "scattergeo": [
           {
            "marker": {
             "colorbar": {
              "outlinewidth": 0,
              "ticks": ""
             }
            },
            "type": "scattergeo"
           }
          ],
          "scattergl": [
           {
            "marker": {
             "colorbar": {
              "outlinewidth": 0,
              "ticks": ""
             }
            },
            "type": "scattergl"
           }
          ],
          "scattermapbox": [
           {
            "marker": {
             "colorbar": {
              "outlinewidth": 0,
              "ticks": ""
             }
            },
            "type": "scattermapbox"
           }
          ],
          "scatterpolar": [
           {
            "marker": {
             "colorbar": {
              "outlinewidth": 0,
              "ticks": ""
             }
            },
            "type": "scatterpolar"
           }
          ],
          "scatterpolargl": [
           {
            "marker": {
             "colorbar": {
              "outlinewidth": 0,
              "ticks": ""
             }
            },
            "type": "scatterpolargl"
           }
          ],
          "scatterternary": [
           {
            "marker": {
             "colorbar": {
              "outlinewidth": 0,
              "ticks": ""
             }
            },
            "type": "scatterternary"
           }
          ],
          "surface": [
           {
            "colorbar": {
             "outlinewidth": 0,
             "ticks": ""
            },
            "colorscale": [
             [
              0,
              "#0d0887"
             ],
             [
              0.1111111111111111,
              "#46039f"
             ],
             [
              0.2222222222222222,
              "#7201a8"
             ],
             [
              0.3333333333333333,
              "#9c179e"
             ],
             [
              0.4444444444444444,
              "#bd3786"
             ],
             [
              0.5555555555555556,
              "#d8576b"
             ],
             [
              0.6666666666666666,
              "#ed7953"
             ],
             [
              0.7777777777777778,
              "#fb9f3a"
             ],
             [
              0.8888888888888888,
              "#fdca26"
             ],
             [
              1,
              "#f0f921"
             ]
            ],
            "type": "surface"
           }
          ],
          "table": [
           {
            "cells": {
             "fill": {
              "color": "#EBF0F8"
             },
             "line": {
              "color": "white"
             }
            },
            "header": {
             "fill": {
              "color": "#C8D4E3"
             },
             "line": {
              "color": "white"
             }
            },
            "type": "table"
           }
          ]
         },
         "layout": {
          "annotationdefaults": {
           "arrowcolor": "#2a3f5f",
           "arrowhead": 0,
           "arrowwidth": 1
          },
          "coloraxis": {
           "colorbar": {
            "outlinewidth": 0,
            "ticks": ""
           }
          },
          "colorscale": {
           "diverging": [
            [
             0,
             "#8e0152"
            ],
            [
             0.1,
             "#c51b7d"
            ],
            [
             0.2,
             "#de77ae"
            ],
            [
             0.3,
             "#f1b6da"
            ],
            [
             0.4,
             "#fde0ef"
            ],
            [
             0.5,
             "#f7f7f7"
            ],
            [
             0.6,
             "#e6f5d0"
            ],
            [
             0.7,
             "#b8e186"
            ],
            [
             0.8,
             "#7fbc41"
            ],
            [
             0.9,
             "#4d9221"
            ],
            [
             1,
             "#276419"
            ]
           ],
           "sequential": [
            [
             0,
             "#0d0887"
            ],
            [
             0.1111111111111111,
             "#46039f"
            ],
            [
             0.2222222222222222,
             "#7201a8"
            ],
            [
             0.3333333333333333,
             "#9c179e"
            ],
            [
             0.4444444444444444,
             "#bd3786"
            ],
            [
             0.5555555555555556,
             "#d8576b"
            ],
            [
             0.6666666666666666,
             "#ed7953"
            ],
            [
             0.7777777777777778,
             "#fb9f3a"
            ],
            [
             0.8888888888888888,
             "#fdca26"
            ],
            [
             1,
             "#f0f921"
            ]
           ],
           "sequentialminus": [
            [
             0,
             "#0d0887"
            ],
            [
             0.1111111111111111,
             "#46039f"
            ],
            [
             0.2222222222222222,
             "#7201a8"
            ],
            [
             0.3333333333333333,
             "#9c179e"
            ],
            [
             0.4444444444444444,
             "#bd3786"
            ],
            [
             0.5555555555555556,
             "#d8576b"
            ],
            [
             0.6666666666666666,
             "#ed7953"
            ],
            [
             0.7777777777777778,
             "#fb9f3a"
            ],
            [
             0.8888888888888888,
             "#fdca26"
            ],
            [
             1,
             "#f0f921"
            ]
           ]
          },
          "colorway": [
           "#636efa",
           "#EF553B",
           "#00cc96",
           "#ab63fa",
           "#FFA15A",
           "#19d3f3",
           "#FF6692",
           "#B6E880",
           "#FF97FF",
           "#FECB52"
          ],
          "font": {
           "color": "#2a3f5f"
          },
          "geo": {
           "bgcolor": "white",
           "lakecolor": "white",
           "landcolor": "#E5ECF6",
           "showlakes": true,
           "showland": true,
           "subunitcolor": "white"
          },
          "hoverlabel": {
           "align": "left"
          },
          "hovermode": "closest",
          "mapbox": {
           "style": "light"
          },
          "paper_bgcolor": "white",
          "plot_bgcolor": "#E5ECF6",
          "polar": {
           "angularaxis": {
            "gridcolor": "white",
            "linecolor": "white",
            "ticks": ""
           },
           "bgcolor": "#E5ECF6",
           "radialaxis": {
            "gridcolor": "white",
            "linecolor": "white",
            "ticks": ""
           }
          },
          "scene": {
           "xaxis": {
            "backgroundcolor": "#E5ECF6",
            "gridcolor": "white",
            "gridwidth": 2,
            "linecolor": "white",
            "showbackground": true,
            "ticks": "",
            "zerolinecolor": "white"
           },
           "yaxis": {
            "backgroundcolor": "#E5ECF6",
            "gridcolor": "white",
            "gridwidth": 2,
            "linecolor": "white",
            "showbackground": true,
            "ticks": "",
            "zerolinecolor": "white"
           },
           "zaxis": {
            "backgroundcolor": "#E5ECF6",
            "gridcolor": "white",
            "gridwidth": 2,
            "linecolor": "white",
            "showbackground": true,
            "ticks": "",
            "zerolinecolor": "white"
           }
          },
          "shapedefaults": {
           "line": {
            "color": "#2a3f5f"
           }
          },
          "ternary": {
           "aaxis": {
            "gridcolor": "white",
            "linecolor": "white",
            "ticks": ""
           },
           "baxis": {
            "gridcolor": "white",
            "linecolor": "white",
            "ticks": ""
           },
           "bgcolor": "#E5ECF6",
           "caxis": {
            "gridcolor": "white",
            "linecolor": "white",
            "ticks": ""
           }
          },
          "title": {
           "x": 0.05
          },
          "xaxis": {
           "automargin": true,
           "gridcolor": "white",
           "linecolor": "white",
           "ticks": "",
           "title": {
            "standoff": 15
           },
           "zerolinecolor": "white",
           "zerolinewidth": 2
          },
          "yaxis": {
           "automargin": true,
           "gridcolor": "white",
           "linecolor": "white",
           "ticks": "",
           "title": {
            "standoff": 15
           },
           "zerolinecolor": "white",
           "zerolinewidth": 2
          }
         }
        },
        "title": {
         "text": "Hotel's Scraped"
        }
       }
      },
      "text/html": [
       "<div>                            <div id=\"642c7167-d671-466b-9438-c0295b20d5c3\" class=\"plotly-graph-div\" style=\"height:525px; width:100%;\"></div>            <script type=\"text/javascript\">                require([\"plotly\"], function(Plotly) {                    window.PLOTLYENV=window.PLOTLYENV || {};                                    if (document.getElementById(\"642c7167-d671-466b-9438-c0295b20d5c3\")) {                    Plotly.newPlot(                        \"642c7167-d671-466b-9438-c0295b20d5c3\",                        [{\"lat\": [39.82073982427556, 39.82416111700947, 39.7832996101832, 39.76310059792287, 39.82414319715558, 39.745762095613166, 39.74715914118896, 39.695828484888594, 39.74421324167367, 39.820897287168656, 39.810507314523356, 39.74236735213943, 39.74582809187195, 39.745892944830814, 39.747227125280226, 39.84780624873464, 39.74438925065442], \"lon\": [-104.77011855065636, -104.77017796489565, -104.99089453733916, -104.90437033652887, -104.77535439325943, -104.98880196621279, -104.99014490816748, -104.93854722042893, -104.99366698795806, -104.77307817712885, -104.7698320362622, -104.9889816221623, -104.98888779527724, -104.99705426595828, -104.99026938941044, -104.6738244648802, -104.98319849589843], \"marker\": {\"color\": [3.9493791786055397, 3.633, 3.372826086956522, 3.8595, 3.996, 4.488, 4.101, 4.15678391959799, 4.46, 3.803, 3.06, 3.5879699248120303, 4.727347611202636, 4.1555, 4.719, 4.36936936936937, 4.095]}, \"mode\": \"markers\", \"text\": [\"Baymont by Wyndham Denver International AirportReviews:2094Rating: 3.9493791786055397\", \"Best Western Plus Denver International Airport Inn & SuitesReviews:1000Rating: 3.633\", \"Clarion Hotel Denver CentralReviews:920Rating: 3.372826086956522\", \"DoubleTree by Hilton Hotel DenverReviews:2000Rating: 3.8595\", \"Embassy Suites by Hilton Denver International AirportReviews:1000Rating: 3.996\", \"Grand Hyatt Denver DowntownReviews:1000Rating: 4.488\", \"Hilton Denver City CenterReviews:1000Rating: 4.101\", \"Hyatt Place Denver/Cherry CreekReviews:995Rating: 4.15678391959799\", \"Hyatt Regency Denver At Colorado Convention CenterReviews:2000Rating: 4.46\", \"La Quinta Inn & Suites by Wyndham Denver Airport DiaReviews:1000Rating: 3.803\", \"Microtel Inn & Suites by Wyndham DenverReviews:1000Rating: 3.06\", \"Sheraton Denver Downtown HotelReviews:1995Rating: 3.5879699248120303\", \"The Crawford HotelReviews:1214Rating: 4.727347611202636\", \"The Curtis Denver - a DoubleTree by Hilton HotelReviews:2000Rating: 4.1555\", \"The Oxford HotelReviews:1000Rating: 4.719\", \"The Westin Denver International AirportReviews:999Rating: 4.36936936936937\", \"Warwick Denver HotelReviews:1000Rating: 4.095\"], \"type\": \"scattergeo\"}],                        {\"geo\": {\"center\": {\"lat\": 39.7452, \"lon\": -104.9922}, \"projection\": {\"scale\": 3000}, \"scope\": \"usa\", \"showland\": true}, \"template\": {\"data\": {\"bar\": [{\"error_x\": {\"color\": \"#2a3f5f\"}, \"error_y\": {\"color\": \"#2a3f5f\"}, \"marker\": {\"line\": {\"color\": \"#E5ECF6\", \"width\": 0.5}}, \"type\": \"bar\"}], \"barpolar\": [{\"marker\": {\"line\": {\"color\": \"#E5ECF6\", \"width\": 0.5}}, \"type\": \"barpolar\"}], \"carpet\": [{\"aaxis\": {\"endlinecolor\": \"#2a3f5f\", \"gridcolor\": \"white\", \"linecolor\": \"white\", \"minorgridcolor\": \"white\", \"startlinecolor\": \"#2a3f5f\"}, \"baxis\": {\"endlinecolor\": \"#2a3f5f\", \"gridcolor\": \"white\", \"linecolor\": \"white\", \"minorgridcolor\": \"white\", \"startlinecolor\": \"#2a3f5f\"}, \"type\": \"carpet\"}], \"choropleth\": [{\"colorbar\": {\"outlinewidth\": 0, \"ticks\": \"\"}, \"type\": \"choropleth\"}], \"contour\": [{\"colorbar\": {\"outlinewidth\": 0, \"ticks\": \"\"}, \"colorscale\": [[0.0, \"#0d0887\"], [0.1111111111111111, \"#46039f\"], [0.2222222222222222, \"#7201a8\"], [0.3333333333333333, \"#9c179e\"], [0.4444444444444444, \"#bd3786\"], [0.5555555555555556, \"#d8576b\"], [0.6666666666666666, \"#ed7953\"], [0.7777777777777778, \"#fb9f3a\"], [0.8888888888888888, \"#fdca26\"], [1.0, \"#f0f921\"]], \"type\": \"contour\"}], \"contourcarpet\": [{\"colorbar\": {\"outlinewidth\": 0, \"ticks\": \"\"}, \"type\": \"contourcarpet\"}], \"heatmap\": [{\"colorbar\": {\"outlinewidth\": 0, \"ticks\": \"\"}, \"colorscale\": [[0.0, \"#0d0887\"], [0.1111111111111111, \"#46039f\"], [0.2222222222222222, \"#7201a8\"], [0.3333333333333333, \"#9c179e\"], [0.4444444444444444, \"#bd3786\"], [0.5555555555555556, \"#d8576b\"], [0.6666666666666666, \"#ed7953\"], [0.7777777777777778, \"#fb9f3a\"], [0.8888888888888888, \"#fdca26\"], [1.0, \"#f0f921\"]], \"type\": \"heatmap\"}], \"heatmapgl\": [{\"colorbar\": {\"outlinewidth\": 0, \"ticks\": \"\"}, \"colorscale\": [[0.0, \"#0d0887\"], [0.1111111111111111, \"#46039f\"], [0.2222222222222222, \"#7201a8\"], [0.3333333333333333, \"#9c179e\"], [0.4444444444444444, \"#bd3786\"], [0.5555555555555556, \"#d8576b\"], [0.6666666666666666, \"#ed7953\"], [0.7777777777777778, \"#fb9f3a\"], [0.8888888888888888, \"#fdca26\"], [1.0, \"#f0f921\"]], \"type\": \"heatmapgl\"}], \"histogram\": [{\"marker\": {\"colorbar\": {\"outlinewidth\": 0, \"ticks\": \"\"}}, \"type\": \"histogram\"}], \"histogram2d\": [{\"colorbar\": {\"outlinewidth\": 0, \"ticks\": \"\"}, \"colorscale\": [[0.0, \"#0d0887\"], [0.1111111111111111, \"#46039f\"], [0.2222222222222222, \"#7201a8\"], [0.3333333333333333, \"#9c179e\"], [0.4444444444444444, \"#bd3786\"], [0.5555555555555556, \"#d8576b\"], [0.6666666666666666, \"#ed7953\"], [0.7777777777777778, \"#fb9f3a\"], [0.8888888888888888, \"#fdca26\"], [1.0, \"#f0f921\"]], \"type\": \"histogram2d\"}], \"histogram2dcontour\": [{\"colorbar\": {\"outlinewidth\": 0, \"ticks\": \"\"}, \"colorscale\": [[0.0, \"#0d0887\"], [0.1111111111111111, \"#46039f\"], [0.2222222222222222, \"#7201a8\"], [0.3333333333333333, \"#9c179e\"], [0.4444444444444444, \"#bd3786\"], [0.5555555555555556, \"#d8576b\"], [0.6666666666666666, \"#ed7953\"], [0.7777777777777778, \"#fb9f3a\"], [0.8888888888888888, \"#fdca26\"], [1.0, \"#f0f921\"]], \"type\": \"histogram2dcontour\"}], \"mesh3d\": [{\"colorbar\": {\"outlinewidth\": 0, \"ticks\": \"\"}, \"type\": \"mesh3d\"}], \"parcoords\": [{\"line\": {\"colorbar\": {\"outlinewidth\": 0, \"ticks\": \"\"}}, \"type\": \"parcoords\"}], \"pie\": [{\"automargin\": true, \"type\": \"pie\"}], \"scatter\": [{\"marker\": {\"colorbar\": {\"outlinewidth\": 0, \"ticks\": \"\"}}, \"type\": \"scatter\"}], \"scatter3d\": [{\"line\": {\"colorbar\": {\"outlinewidth\": 0, \"ticks\": \"\"}}, \"marker\": {\"colorbar\": {\"outlinewidth\": 0, \"ticks\": \"\"}}, \"type\": \"scatter3d\"}], \"scattercarpet\": [{\"marker\": {\"colorbar\": {\"outlinewidth\": 0, \"ticks\": \"\"}}, \"type\": \"scattercarpet\"}], \"scattergeo\": [{\"marker\": {\"colorbar\": {\"outlinewidth\": 0, \"ticks\": \"\"}}, \"type\": \"scattergeo\"}], \"scattergl\": [{\"marker\": {\"colorbar\": {\"outlinewidth\": 0, \"ticks\": \"\"}}, \"type\": \"scattergl\"}], \"scattermapbox\": [{\"marker\": {\"colorbar\": {\"outlinewidth\": 0, \"ticks\": \"\"}}, \"type\": \"scattermapbox\"}], \"scatterpolar\": [{\"marker\": {\"colorbar\": {\"outlinewidth\": 0, \"ticks\": \"\"}}, \"type\": \"scatterpolar\"}], \"scatterpolargl\": [{\"marker\": {\"colorbar\": {\"outlinewidth\": 0, \"ticks\": \"\"}}, \"type\": \"scatterpolargl\"}], \"scatterternary\": [{\"marker\": {\"colorbar\": {\"outlinewidth\": 0, \"ticks\": \"\"}}, \"type\": \"scatterternary\"}], \"surface\": [{\"colorbar\": {\"outlinewidth\": 0, \"ticks\": \"\"}, \"colorscale\": [[0.0, \"#0d0887\"], [0.1111111111111111, \"#46039f\"], [0.2222222222222222, \"#7201a8\"], [0.3333333333333333, \"#9c179e\"], [0.4444444444444444, \"#bd3786\"], [0.5555555555555556, \"#d8576b\"], [0.6666666666666666, \"#ed7953\"], [0.7777777777777778, \"#fb9f3a\"], [0.8888888888888888, \"#fdca26\"], [1.0, \"#f0f921\"]], \"type\": \"surface\"}], \"table\": [{\"cells\": {\"fill\": {\"color\": \"#EBF0F8\"}, \"line\": {\"color\": \"white\"}}, \"header\": {\"fill\": {\"color\": \"#C8D4E3\"}, \"line\": {\"color\": \"white\"}}, \"type\": \"table\"}]}, \"layout\": {\"annotationdefaults\": {\"arrowcolor\": \"#2a3f5f\", \"arrowhead\": 0, \"arrowwidth\": 1}, \"coloraxis\": {\"colorbar\": {\"outlinewidth\": 0, \"ticks\": \"\"}}, \"colorscale\": {\"diverging\": [[0, \"#8e0152\"], [0.1, \"#c51b7d\"], [0.2, \"#de77ae\"], [0.3, \"#f1b6da\"], [0.4, \"#fde0ef\"], [0.5, \"#f7f7f7\"], [0.6, \"#e6f5d0\"], [0.7, \"#b8e186\"], [0.8, \"#7fbc41\"], [0.9, \"#4d9221\"], [1, \"#276419\"]], \"sequential\": [[0.0, \"#0d0887\"], [0.1111111111111111, \"#46039f\"], [0.2222222222222222, \"#7201a8\"], [0.3333333333333333, \"#9c179e\"], [0.4444444444444444, \"#bd3786\"], [0.5555555555555556, \"#d8576b\"], [0.6666666666666666, \"#ed7953\"], [0.7777777777777778, \"#fb9f3a\"], [0.8888888888888888, \"#fdca26\"], [1.0, \"#f0f921\"]], \"sequentialminus\": [[0.0, \"#0d0887\"], [0.1111111111111111, \"#46039f\"], [0.2222222222222222, \"#7201a8\"], [0.3333333333333333, \"#9c179e\"], [0.4444444444444444, \"#bd3786\"], [0.5555555555555556, \"#d8576b\"], [0.6666666666666666, \"#ed7953\"], [0.7777777777777778, \"#fb9f3a\"], [0.8888888888888888, \"#fdca26\"], [1.0, \"#f0f921\"]]}, \"colorway\": [\"#636efa\", \"#EF553B\", \"#00cc96\", \"#ab63fa\", \"#FFA15A\", \"#19d3f3\", \"#FF6692\", \"#B6E880\", \"#FF97FF\", \"#FECB52\"], \"font\": {\"color\": \"#2a3f5f\"}, \"geo\": {\"bgcolor\": \"white\", \"lakecolor\": \"white\", \"landcolor\": \"#E5ECF6\", \"showlakes\": true, \"showland\": true, \"subunitcolor\": \"white\"}, \"hoverlabel\": {\"align\": \"left\"}, \"hovermode\": \"closest\", \"mapbox\": {\"style\": \"light\"}, \"paper_bgcolor\": \"white\", \"plot_bgcolor\": \"#E5ECF6\", \"polar\": {\"angularaxis\": {\"gridcolor\": \"white\", \"linecolor\": \"white\", \"ticks\": \"\"}, \"bgcolor\": \"#E5ECF6\", \"radialaxis\": {\"gridcolor\": \"white\", \"linecolor\": \"white\", \"ticks\": \"\"}}, \"scene\": {\"xaxis\": {\"backgroundcolor\": \"#E5ECF6\", \"gridcolor\": \"white\", \"gridwidth\": 2, \"linecolor\": \"white\", \"showbackground\": true, \"ticks\": \"\", \"zerolinecolor\": \"white\"}, \"yaxis\": {\"backgroundcolor\": \"#E5ECF6\", \"gridcolor\": \"white\", \"gridwidth\": 2, \"linecolor\": \"white\", \"showbackground\": true, \"ticks\": \"\", \"zerolinecolor\": \"white\"}, \"zaxis\": {\"backgroundcolor\": \"#E5ECF6\", \"gridcolor\": \"white\", \"gridwidth\": 2, \"linecolor\": \"white\", \"showbackground\": true, \"ticks\": \"\", \"zerolinecolor\": \"white\"}}, \"shapedefaults\": {\"line\": {\"color\": \"#2a3f5f\"}}, \"ternary\": {\"aaxis\": {\"gridcolor\": \"white\", \"linecolor\": \"white\", \"ticks\": \"\"}, \"baxis\": {\"gridcolor\": \"white\", \"linecolor\": \"white\", \"ticks\": \"\"}, \"bgcolor\": \"#E5ECF6\", \"caxis\": {\"gridcolor\": \"white\", \"linecolor\": \"white\", \"ticks\": \"\"}}, \"title\": {\"x\": 0.05}, \"xaxis\": {\"automargin\": true, \"gridcolor\": \"white\", \"linecolor\": \"white\", \"ticks\": \"\", \"title\": {\"standoff\": 15}, \"zerolinecolor\": \"white\", \"zerolinewidth\": 2}, \"yaxis\": {\"automargin\": true, \"gridcolor\": \"white\", \"linecolor\": \"white\", \"ticks\": \"\", \"title\": {\"standoff\": 15}, \"zerolinecolor\": \"white\", \"zerolinewidth\": 2}}}, \"title\": {\"text\": \"Hotel's Scraped\"}},                        {\"responsive\": true}                    ).then(function(){\n",
       "                            \n",
       "var gd = document.getElementById('642c7167-d671-466b-9438-c0295b20d5c3');\n",
       "var x = new MutationObserver(function (mutations, observer) {{\n",
       "        var display = window.getComputedStyle(gd).display;\n",
       "        if (!display || display === 'none') {{\n",
       "            console.log([gd, 'removed!']);\n",
       "            Plotly.purge(gd);\n",
       "            observer.disconnect();\n",
       "        }}\n",
       "}});\n",
       "\n",
       "// Listen for the removal of the full notebook cells\n",
       "var notebookContainer = gd.closest('#notebook-container');\n",
       "if (notebookContainer) {{\n",
       "    x.observe(notebookContainer, {childList: true});\n",
       "}}\n",
       "\n",
       "// Listen for the clearing of the current output cell\n",
       "var outputEl = gd.closest('.output');\n",
       "if (outputEl) {{\n",
       "    x.observe(outputEl, {childList: true});\n",
       "}}\n",
       "\n",
       "                        })                };                });            </script>        </div>"
      ]
     },
     "metadata": {},
     "output_type": "display_data"
    }
   ],
   "source": [
    "# # Examine distribution by location \n",
    "# lat_foc = 39.7452\n",
    "# lon_foc = -104.9922\n",
    "\n",
    "\n",
    "# # Pop up text\n",
    "# map_df['text'] = (map_df['Hotel'] + '' + 'Reviews:' + \n",
    "#                   map_df[('Rating', 'count')].astype(str) + 'Rating: ' \n",
    "#                   + map_df[('Rating', 'mean')].astype(str))\n",
    "\n",
    "# fig = go.Figure(data=go.Scattergeo(\n",
    "#         lon = map_df['Long'],\n",
    "#         lat = map_df['Lat'],\n",
    "#         text = map_df['text'],\n",
    "#         mode = 'markers',\n",
    "#         marker_color = map_df[('Rating', 'mean')]\n",
    "#         ))\n",
    "\n",
    "# fig.update_layout(\n",
    "#         title = \"Hotel's Scraped\",\n",
    "#         geo_scope='usa',\n",
    "#         geo = dict(\n",
    "#             projection_scale= 3000, #this is kind of like zoom\n",
    "#             center=dict(lat=lat_foc, lon=lon_foc), showland = True,) # this will center on the point\n",
    "#     )\n",
    "# fig.show()\n",
    "\n",
    "# # focus point"
   ]
  },
  {
   "cell_type": "markdown",
   "metadata": {},
   "source": [
    "### Pre-processing"
   ]
  },
  {
   "cell_type": "code",
   "execution_count": 15,
   "metadata": {},
   "outputs": [
    {
     "data": {
      "text/html": [
       "<div>\n",
       "<style scoped>\n",
       "    .dataframe tbody tr th:only-of-type {\n",
       "        vertical-align: middle;\n",
       "    }\n",
       "\n",
       "    .dataframe tbody tr th {\n",
       "        vertical-align: top;\n",
       "    }\n",
       "\n",
       "    .dataframe thead th {\n",
       "        text-align: right;\n",
       "    }\n",
       "</style>\n",
       "<table border=\"1\" class=\"dataframe\">\n",
       "  <thead>\n",
       "    <tr style=\"text-align: right;\">\n",
       "      <th></th>\n",
       "      <th>Location</th>\n",
       "      <th>Hotel</th>\n",
       "      <th>Title</th>\n",
       "      <th>Review</th>\n",
       "      <th>Rating</th>\n",
       "    </tr>\n",
       "  </thead>\n",
       "  <tbody>\n",
       "    <tr>\n",
       "      <th>0</th>\n",
       "      <td>Detroit, MI</td>\n",
       "      <td>The Siren Hotel</td>\n",
       "      <td>Absolute stunner in best location</td>\n",
       "      <td>Absolute stunner in best location I have staye...</td>\n",
       "      <td>5</td>\n",
       "    </tr>\n",
       "    <tr>\n",
       "      <th>1</th>\n",
       "      <td>Detroit, MI</td>\n",
       "      <td>The Siren Hotel</td>\n",
       "      <td>Wonderful</td>\n",
       "      <td>Wonderful Had a great time at The Siren Hotel....</td>\n",
       "      <td>5</td>\n",
       "    </tr>\n",
       "    <tr>\n",
       "      <th>2</th>\n",
       "      <td>Detroit, MI</td>\n",
       "      <td>The Siren Hotel</td>\n",
       "      <td>Beautiful hotel</td>\n",
       "      <td>Beautiful hotel The Siren hotel is located in ...</td>\n",
       "      <td>5</td>\n",
       "    </tr>\n",
       "    <tr>\n",
       "      <th>3</th>\n",
       "      <td>Detroit, MI</td>\n",
       "      <td>The Siren Hotel</td>\n",
       "      <td>5 stars, Best Detroit hotel!</td>\n",
       "      <td>5 stars, Best Detroit hotel! Had a great time ...</td>\n",
       "      <td>5</td>\n",
       "    </tr>\n",
       "    <tr>\n",
       "      <th>4</th>\n",
       "      <td>Detroit, MI</td>\n",
       "      <td>The Siren Hotel</td>\n",
       "      <td>Amazing</td>\n",
       "      <td>Amazing Great hotel,Danny at the front desk wa...</td>\n",
       "      <td>5</td>\n",
       "    </tr>\n",
       "  </tbody>\n",
       "</table>\n",
       "</div>"
      ],
      "text/plain": [
       "      Location            Hotel                              Title  \\\n",
       "0  Detroit, MI  The Siren Hotel  Absolute stunner in best location   \n",
       "1  Detroit, MI  The Siren Hotel                          Wonderful   \n",
       "2  Detroit, MI  The Siren Hotel                    Beautiful hotel   \n",
       "3  Detroit, MI  The Siren Hotel       5 stars, Best Detroit hotel!   \n",
       "4  Detroit, MI  The Siren Hotel                            Amazing   \n",
       "\n",
       "                                              Review  Rating  \n",
       "0  Absolute stunner in best location I have staye...       5  \n",
       "1  Wonderful Had a great time at The Siren Hotel....       5  \n",
       "2  Beautiful hotel The Siren hotel is located in ...       5  \n",
       "3  5 stars, Best Detroit hotel! Had a great time ...       5  \n",
       "4  Amazing Great hotel,Danny at the front desk wa...       5  "
      ]
     },
     "execution_count": 15,
     "metadata": {},
     "output_type": "execute_result"
    }
   ],
   "source": [
    "# combine 'Title' and 'Review' into one chucnk of text (seperate with a space)\n",
    "df_raw['Review'] = df_raw['Title'] + ' ' + df_raw['Review']\n",
    "df_raw.head()"
   ]
  },
  {
   "cell_type": "code",
   "execution_count": 16,
   "metadata": {},
   "outputs": [
    {
     "data": {
      "text/html": [
       "<div>\n",
       "<style scoped>\n",
       "    .dataframe tbody tr th:only-of-type {\n",
       "        vertical-align: middle;\n",
       "    }\n",
       "\n",
       "    .dataframe tbody tr th {\n",
       "        vertical-align: top;\n",
       "    }\n",
       "\n",
       "    .dataframe thead th {\n",
       "        text-align: right;\n",
       "    }\n",
       "</style>\n",
       "<table border=\"1\" class=\"dataframe\">\n",
       "  <thead>\n",
       "    <tr style=\"text-align: right;\">\n",
       "      <th></th>\n",
       "      <th>Review</th>\n",
       "      <th>Rating</th>\n",
       "    </tr>\n",
       "  </thead>\n",
       "  <tbody>\n",
       "    <tr>\n",
       "      <th>0</th>\n",
       "      <td>Absolute stunner in best location I have staye...</td>\n",
       "      <td>5</td>\n",
       "    </tr>\n",
       "    <tr>\n",
       "      <th>1</th>\n",
       "      <td>Wonderful Had a great time at The Siren Hotel....</td>\n",
       "      <td>5</td>\n",
       "    </tr>\n",
       "    <tr>\n",
       "      <th>2</th>\n",
       "      <td>Beautiful hotel The Siren hotel is located in ...</td>\n",
       "      <td>5</td>\n",
       "    </tr>\n",
       "    <tr>\n",
       "      <th>3</th>\n",
       "      <td>5 stars, Best Detroit hotel! Had a great time ...</td>\n",
       "      <td>5</td>\n",
       "    </tr>\n",
       "    <tr>\n",
       "      <th>4</th>\n",
       "      <td>Amazing Great hotel,Danny at the front desk wa...</td>\n",
       "      <td>5</td>\n",
       "    </tr>\n",
       "  </tbody>\n",
       "</table>\n",
       "</div>"
      ],
      "text/plain": [
       "                                              Review  Rating\n",
       "0  Absolute stunner in best location I have staye...       5\n",
       "1  Wonderful Had a great time at The Siren Hotel....       5\n",
       "2  Beautiful hotel The Siren hotel is located in ...       5\n",
       "3  5 stars, Best Detroit hotel! Had a great time ...       5\n",
       "4  Amazing Great hotel,Danny at the front desk wa...       5"
      ]
     },
     "execution_count": 16,
     "metadata": {},
     "output_type": "execute_result"
    }
   ],
   "source": [
    "# Drop columns uneeded for this analysis, save as working df\n",
    "df = df_raw.drop(columns = ['Location', 'Hotel', 'Title'])\n",
    "df.head()"
   ]
  },
  {
   "cell_type": "markdown",
   "metadata": {},
   "source": [
    "### Train / Test Split\n",
    "1) **Split the sample data into 3 groups**: train, validation and test, where train is used to fit the model, validation is used to evaluate fitness of interim models, and test is used to assess final model fitness.\n",
    "\n",
    "2) **Split the sample data into 2 groups**: train and test, where train is further split into train and validation set k times using k-fold cross validation, and test is used to assess final model fitness. With k-fold cross validation:"
   ]
  },
  {
   "cell_type": "code",
   "execution_count": 25,
   "metadata": {},
   "outputs": [
    {
     "data": {
      "text/plain": [
       "((1875,), (625,))"
      ]
     },
     "execution_count": 25,
     "metadata": {},
     "output_type": "execute_result"
    }
   ],
   "source": [
    "# Split BEFORE processsing to avoid leaking\n",
    "X = df['Review']\n",
    "y = df['Rating']\n",
    "\n",
    "X_train, X_test, y_train, y_test =train_test_split(X, y, random_state=seed)\n",
    "\n",
    "X_train.shape, X_test.shape\n",
    "\n",
    "# Words in test but not in train - decode_error = ignore"
   ]
  },
  {
   "cell_type": "code",
   "execution_count": 21,
   "metadata": {},
   "outputs": [
    {
     "data": {
      "text/plain": [
       "5    0.597867\n",
       "4    0.234667\n",
       "3    0.090667\n",
       "2    0.042667\n",
       "1    0.034133\n",
       "Name: Rating, dtype: float64"
      ]
     },
     "execution_count": 21,
     "metadata": {},
     "output_type": "execute_result"
    }
   ],
   "source": [
    "y_train.value_counts(1)"
   ]
  },
  {
   "cell_type": "markdown",
   "metadata": {},
   "source": [
    "### NLP Preprocessing\n",
    "Transform unstructured data to a matrix of numbers. Fits to entire training data 'X_train' to build entire corpus.\n",
    "\n",
    "#### Feature Engineering for Text Data\n",
    "- Do we remove stop words or not?\n",
    "- Do we stem or lemmatize our text data, or leave the words as is?\n",
    "- Is basic tokenization enough, or do we need to support special edge cases through the use of regex?\n",
    "- Do we use the entire vocabulary, or just limit the model to a subset of the most frequently used words? If so, how many?\n",
    "- Do we engineer other features, such as bigrams, or POS tags, or Mutual Information Scores?\n",
    "- What sort of vectorization should we use in our model? Boolean Vectorization? Count Vectorization? TF-IDF? More advanced vectorization strategies such as Word2Vec?\n",
    "\n",
    "Start at baseline model, then adjust and see results."
   ]
  },
  {
   "cell_type": "code",
   "execution_count": null,
   "metadata": {},
   "outputs": [],
   "source": [
    "# from medium\n",
    "def preprocess_text(text):\n",
    "    # Tokenise words while ignoring punctuation\n",
    "    tokeniser = RegexpTokenizer(r'\\w+')\n",
    "    tokens = tokeniser.tokenize(text)\n",
    "    \n",
    "    # Lowercase and lemmatise \n",
    "    lemmatiser = WordNetLemmatizer()\n",
    "    lemmas = [lemmatiser.lemmatize(token.lower(), pos='v') for token in tokens]\n",
    "    \n",
    "    # Remove stop words\n",
    "    keywords= [lemma for lemma in lemmas if lemma not in stopwords.words('english')]\n",
    "    return keywords\n",
    "# Create an instance of TfidfVectorizer\n",
    "vectoriser = TfidfVectorizer(analyzer=preprocess_text)\n",
    "# Fit to the data and transform to feature matrix\n",
    "X_train_tfidf = vectoriser.fit_transform(X_train)\n",
    "X_train_tfidf.shape"
   ]
  },
  {
   "cell_type": "code",
   "execution_count": null,
   "metadata": {},
   "outputs": [],
   "source": [
    "# cleaning - remove punctuation, captialization, regex for conjunctions\n",
    "# more complex: count words with apostrophes as a single word\n",
    "pattern = \"([a-zA-Z]+(?:'[a-z]+)?)\"\n"
   ]
  },
  {
   "cell_type": "code",
   "execution_count": null,
   "metadata": {},
   "outputs": [],
   "source": [
    "# remove stops words, reduce dimensionality\n",
    "from nltk.corpus import stopwords\n",
    "import string\n",
    "stopword_list = stopwords.words('english')\n",
    "stopword_list[:10]"
   ]
  },
  {
   "cell_type": "code",
   "execution_count": null,
   "metadata": {},
   "outputs": [],
   "source": [
    "# punctuation\n",
    "stopword_list.extend(string.punctuation)\n",
    "stopword_list[-10:]"
   ]
  },
  {
   "cell_type": "code",
   "execution_count": null,
   "metadata": {},
   "outputs": [],
   "source": [
    "# remove\n",
    "stopped_tokens = [w.lower() for w in tokens if w.lower() not in stopword_list]"
   ]
  },
  {
   "cell_type": "code",
   "execution_count": null,
   "metadata": {},
   "outputs": [],
   "source": [
    "# pull out hotel titles/names? make more generic?"
   ]
  },
  {
   "cell_type": "code",
   "execution_count": null,
   "metadata": {},
   "outputs": [],
   "source": [
    "# EXPLORE THIS, likely note necessary \n",
    "# stem or lemm to reduce words to base\n",
    "from nltk.stem.wordnet import WordNetLemmatizer\n",
    "\n",
    "lemmatizer = WordNetLemmatizer()\n",
    "\n",
    "print(lemmatizer.lemmatize('feet')) # foot"
   ]
  },
  {
   "cell_type": "code",
   "execution_count": null,
   "metadata": {},
   "outputs": [],
   "source": [
    "# tokenize\n",
    "from nltk import word_tokenize\n",
    "tokens = word_tokenize(','.join(corpus))\n",
    "\n",
    "tokenizer = nltk.TweetTokenizer(preserve_case=False)\n",
    "tokenizer"
   ]
  },
  {
   "cell_type": "code",
   "execution_count": null,
   "metadata": {},
   "outputs": [],
   "source": [
    "## Make a TfIdf Vectorizer using tweet tokenizer's .tokenize method\n",
    "vectorizer = TfidfVectorizer(tokenizer=tokenizer.tokenize,\n",
    "                             stop_words=stopword_list,decode_error='ignore')\n",
    "\n",
    "# Vectorize data and make X_train_tfidf and X_test_tfidf\n",
    "X_train_tfidf = vectorizer.fit_transform(X_train)\n",
    "X_test_tfidf = vectorizer.transform(X_test)\n",
    "X_train_tfidf#.todense()"
   ]
  },
  {
   "cell_type": "code",
   "execution_count": null,
   "metadata": {},
   "outputs": [],
   "source": [
    "# visual: freqeuncy distribution/N-grams\n",
    "freq = FreqDist(tokens)\n",
    "freq.most_common(100)"
   ]
  },
  {
   "cell_type": "code",
   "execution_count": null,
   "metadata": {},
   "outputs": [],
   "source": [
    "# vectorize - BOW"
   ]
  },
  {
   "cell_type": "code",
   "execution_count": null,
   "metadata": {},
   "outputs": [],
   "source": [
    "# examine sparce matrix"
   ]
  },
  {
   "cell_type": "code",
   "execution_count": null,
   "metadata": {},
   "outputs": [],
   "source": [
    "# TF-IDF - which words appear heavily in one class vs others"
   ]
  },
  {
   "cell_type": "code",
   "execution_count": null,
   "metadata": {},
   "outputs": [],
   "source": [
    "# EDA/visuals: word freq, word cloud, etc."
   ]
  },
  {
   "cell_type": "code",
   "execution_count": null,
   "metadata": {},
   "outputs": [],
   "source": [
    "# Optional ... EDA - compare sentiment libraries predictions to given rating - how \"accurate\" is it in this case?"
   ]
  },
  {
   "cell_type": "markdown",
   "metadata": {},
   "source": [
    "### Save data"
   ]
  },
  {
   "cell_type": "code",
   "execution_count": null,
   "metadata": {},
   "outputs": [],
   "source": [
    "# Save data"
   ]
  },
  {
   "cell_type": "markdown",
   "metadata": {},
   "source": [
    "# Modeling\n",
    "https://towardsdatascience.com/introduction-to-nlp-part-4-supervised-text-classification-model-in-python-96e9709b4267\n",
    "\n",
    "# TODO\n",
    "- choose metric\n",
    "- build evaluation function (confusion matrix, metrics.classification_report, opt:feature importances?)\n",
    "        \n",
    "        importance = pd.Series(rf.feature_importances_,index=vectorizer.get_feature_names())\n",
    "        importance.sort_values(ascending=True).tail(20).plot(kind='barh')\n",
    "        \n",
    "- build baseline multi-class models:\n",
    "        \n",
    "        naive bayes?\n",
    "        random forest?\n",
    "\n",
    "- establish **CLASS WEIGHTS** to deal with imbalance\n",
    "   "
   ]
  },
  {
   "cell_type": "code",
   "execution_count": null,
   "metadata": {},
   "outputs": [],
   "source": [
    "# from medium\n",
    "sgd_clf = SGDClassifier(random_state=seed)\n",
    "sgf_clf_scores = cross_val_score(sgd_clf, X_train_tfidf, y_train, cv=5)\n",
    "print(sgf_clf_scores)\n",
    "print(\"Accuracy: %0.2f (+/- %0.2f)\" % (sgf_clf_scores.mean(), sgf_clf_scores.std() * 2))"
   ]
  }
 ],
 "metadata": {
  "kernelspec": {
   "display_name": "learn-env",
   "language": "python",
   "name": "learn-env"
  },
  "language_info": {
   "codemirror_mode": {
    "name": "ipython",
    "version": 3
   },
   "file_extension": ".py",
   "mimetype": "text/x-python",
   "name": "python",
   "nbconvert_exporter": "python",
   "pygments_lexer": "ipython3",
   "version": "3.8.3"
  }
 },
 "nbformat": 4,
 "nbformat_minor": 4
}
