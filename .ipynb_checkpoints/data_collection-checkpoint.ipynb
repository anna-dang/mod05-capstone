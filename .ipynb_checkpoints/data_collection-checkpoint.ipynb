{
 "cells": [
  {
   "cell_type": "markdown",
   "metadata": {},
   "source": [
    "# Hotel Review Classifier\n",
    "\n",
    "*Flatiron School Data Science Bootcamp*\n",
    "\n",
    "Captsone Project - Sentiment/Ratings Analysis\n",
    "\n",
    "Anna D'Angela | [annaadangela@gmail.com](mailo:annaadangela@gmail.com)\n",
    "\n",
    "[Return to GitHub repo](https://github.com/anna-dang/mod05-capstone)\n"
   ]
  },
  {
   "cell_type": "markdown",
   "metadata": {},
   "source": [
    "# Data Collection Notebook\n",
    "\n",
    "In this notebook I will gather data for my capstone classification project by scraping the internet for travel reviews. The custom scraping functions I built are located here: [/capstone_functions/collection_functions.py](./capstone_functions/collection_functions.py). For my full analysis, please see [NLP_and_modeling.ipynb](./NLP_and_modeling.ipynb) notebook.\n",
    "\n",
    "#### Contents:\n",
    "1. Sourcing Strategy\n",
    "2. Web Scrape\n",
    "3. Concatenate Scrapes\n",
    "4. Export Final Data"
   ]
  },
  {
   "cell_type": "code",
   "execution_count": 17,
   "metadata": {},
   "outputs": [],
   "source": [
    "# Import libraries\n",
    "import pandas as pd\n",
    "import matplotlib.pyplot as plt\n",
    "%matplotlib inline\n",
    "\n",
    "from re import compile, split\n",
    "from bs4 import BeautifulSoup\n",
    "from selenium import webdriver\n",
    "from time import sleep, time\n",
    "\n",
    "# Custom functions\n",
    "from capstone_functions import collection_functions as cf"
   ]
  },
  {
   "cell_type": "code",
   "execution_count": 2,
   "metadata": {},
   "outputs": [],
   "source": [
    "# Auto - reload custom function library\n",
    "%load_ext autoreload\n",
    "%autoreload 2"
   ]
  },
  {
   "cell_type": "markdown",
   "metadata": {},
   "source": [
    "## 1. Sourcing Strategy\n",
    "\n",
    "### 1.1 Objective\n",
    "To build a corpus of hotel related text with tagged sentiment, I will scrape a travel website for user reviews and ratings. I selected Trip Advisor due to the volume of public facing reviews available and the notable detail/length of an average review. Trip Advisor reviews are paired with the user's rating. Ratings are scored as whole numbers from 1 (worst) to 5 (best).\n",
    "\n",
    "I will scrape between 500 and 2000 reviews from each of 24 hotels in the Denver, Colorado metro area. I set the amount scraped mannually after confirming the number of reviews per property. \n",
    "\n",
    "Since I am not doing an analysis of the Denver hotel industry and wish to train a supervied model - my priority was scraping as diverse a range of score possible.I scraped low to mid-range hotels with a standard nightly rate under $250/night (at time of scrape, January 2021).\n",
    "\n",
    "### 1.2 Limitations\n",
    "\n",
    "The scoring metric is entirely up to the user. Therefor, one person's 3 could be another person's 5. If there reviews use mostly the same vocab this could introduce extra noise to the model."
   ]
  },
  {
   "cell_type": "markdown",
   "metadata": {},
   "source": [
    "## 2. Web Scrape\n",
    "\n",
    "### 2.1 Prepare to Scrape"
   ]
  },
  {
   "cell_type": "code",
   "execution_count": 8,
   "metadata": {},
   "outputs": [
    {
     "name": "stdout",
     "output_type": "stream",
     "text": [
      "Number of hotels to scrape: 24\n"
     ]
    },
    {
     "data": {
      "text/plain": [
       "['/Hotel_Review-g33388-d85364-Reviews-Best_Western_Plus_Denver_International_Airport_Inn_Suites-Denver_Colorado.html',\n",
       " '/Hotel_Review-g33388-d81026-Reviews-Clarion_Hotel_Denver_Central-Denver_Colorado.html',\n",
       " '/Hotel_Review-g33388-d85368-Reviews-La_Quinta_Inn_Suites_by_Wyndham_Denver_Airport_Dia-Denver_Colorado.html',\n",
       " '/Hotel_Review-g33388-d6577001-Reviews-The_Crawford_Hotel-Denver_Colorado.html',\n",
       " '/Hotel_Review-g33388-d83046-Reviews-Grand_Hyatt_Denver_Downtown-Denver_Colorado.html',\n",
       " '/Hotel_Review-g33388-d83097-Reviews-Warwick_Denver_Hotel-Denver_Colorado.html',\n",
       " '/Hotel_Review-g33388-d8263810-Reviews-The_Westin_Denver_International_Airport-Denver_Colorado.html',\n",
       " '/Hotel_Review-g33388-d114326-Reviews-Hyatt_Place_Denver_Cherry_Creek-Denver_Colorado.html',\n",
       " '/Hotel_Review-g33388-d225090-Reviews-Microtel_Inn_Suites_by_Wyndham_Denver-Denver_Colorado.html',\n",
       " '/Hotel_Review-g33388-d83057-Reviews-Hilton_Denver_City_Center-Denver_Colorado.html']"
      ]
     },
     "execution_count": 8,
     "metadata": {},
     "output_type": "execute_result"
    }
   ],
   "source": [
    "# Import hotel homepage extensions as a list \n",
    "with open(\"./data/denver_urls.txt\", \"r\") as scrape_1_urls:\n",
    "    hotel_homepage_urls = scrape_1_urls.read().splitlines()\n",
    "\n",
    "# Remove white space caused by 'splitlines'\n",
    "hotel_homepage_urls = [i for i in hotel_homepage_urls if i]\n",
    "\n",
    "# Preview\n",
    "print(\"Number of hotels to scrape:\", len(hotel_homepage_urls))\n",
    "hotel_homepage_urls[:10]"
   ]
  },
  {
   "cell_type": "code",
   "execution_count": 107,
   "metadata": {},
   "outputs": [
    {
     "data": {
      "text/html": [
       "<div>\n",
       "<style scoped>\n",
       "    .dataframe tbody tr th:only-of-type {\n",
       "        vertical-align: middle;\n",
       "    }\n",
       "\n",
       "    .dataframe tbody tr th {\n",
       "        vertical-align: top;\n",
       "    }\n",
       "\n",
       "    .dataframe thead th {\n",
       "        text-align: right;\n",
       "    }\n",
       "</style>\n",
       "<table border=\"1\" class=\"dataframe\">\n",
       "  <thead>\n",
       "    <tr style=\"text-align: right;\">\n",
       "      <th></th>\n",
       "      <th>Location</th>\n",
       "      <th>Hotel</th>\n",
       "      <th>Title</th>\n",
       "      <th>Review</th>\n",
       "      <th>Rating</th>\n",
       "    </tr>\n",
       "  </thead>\n",
       "  <tbody>\n",
       "  </tbody>\n",
       "</table>\n",
       "</div>"
      ],
      "text/plain": [
       "Empty DataFrame\n",
       "Columns: [Location, Hotel, Title, Review, Rating]\n",
       "Index: []"
      ]
     },
     "execution_count": 107,
     "metadata": {},
     "output_type": "execute_result"
    }
   ],
   "source": [
    "# Create a base df to populate with hotel information\n",
    "base_df = pd.DataFrame(columns = ['Location', 'Hotel', 'Title', 'Review', 'Rating']) \n",
    "base_df"
   ]
  },
  {
   "cell_type": "markdown",
   "metadata": {},
   "source": [
    "### 2.2 Scrape URLs"
   ]
  },
  {
   "cell_type": "code",
   "execution_count": null,
   "metadata": {
    "scrolled": true,
    "tags": []
   },
   "outputs": [],
   "source": [
    "# Iterate through each hotel in list, record runtimes\n",
    "start_time = time()\n",
    "\n",
    "for i, hotel_url in enumerate([hotel_homepage_urls[4]]):\n",
    "    \n",
    "    print(\"--- Hotel \", i+1, \" ---\")\n",
    "    \n",
    "    start_run = time()\n",
    "    \n",
    "    # Scrape each hotel for specified number of pages\n",
    "    hotel_df = cf.scrape_hotel(hotel_url, n=50)\n",
    "    \n",
    "    # Add to base df\n",
    "    base_df = pd.concat([base_df, hotel_df])\n",
    "    \n",
    "    # Calculate runtime\n",
    "    run_time = round((time() - start_run)/60, 2)\n",
    "    \n",
    "    print(f\"--- Run {i+1} complete:\", run_time, \"minutes ---\")\n",
    "    \n",
    "    # Avoid being booted\n",
    "    sleep(3)\n",
    "\n",
    "# Total run time\n",
    "full_run_time = time() - start_time"
   ]
  },
  {
   "cell_type": "code",
   "execution_count": 117,
   "metadata": {},
   "outputs": [
    {
     "name": "stdout",
     "output_type": "stream",
     "text": [
      "18.87 minutes\n"
     ]
    }
   ],
   "source": [
    "# Total scrape runtime\n",
    "print(round(full_run_time/60, 2), \"minutes\")"
   ]
  },
  {
   "cell_type": "markdown",
   "metadata": {},
   "source": [
    "### 2.3 Check Data from Scrape"
   ]
  },
  {
   "cell_type": "code",
   "execution_count": 12,
   "metadata": {},
   "outputs": [
    {
     "data": {
      "text/html": [
       "<div>\n",
       "<style scoped>\n",
       "    .dataframe tbody tr th:only-of-type {\n",
       "        vertical-align: middle;\n",
       "    }\n",
       "\n",
       "    .dataframe tbody tr th {\n",
       "        vertical-align: top;\n",
       "    }\n",
       "\n",
       "    .dataframe thead th {\n",
       "        text-align: right;\n",
       "    }\n",
       "</style>\n",
       "<table border=\"1\" class=\"dataframe\">\n",
       "  <thead>\n",
       "    <tr style=\"text-align: right;\">\n",
       "      <th></th>\n",
       "      <th>Location</th>\n",
       "      <th>Hotel</th>\n",
       "      <th>Title</th>\n",
       "      <th>Review</th>\n",
       "      <th>Rating</th>\n",
       "    </tr>\n",
       "  </thead>\n",
       "  <tbody>\n",
       "    <tr>\n",
       "      <th>0</th>\n",
       "      <td>Denver, CO</td>\n",
       "      <td>The Crawford Hotel</td>\n",
       "      <td>WHAT A STAY!</td>\n",
       "      <td>The Crawford Hotel was seriously the most uniq...</td>\n",
       "      <td>5</td>\n",
       "    </tr>\n",
       "    <tr>\n",
       "      <th>1</th>\n",
       "      <td>Denver, CO</td>\n",
       "      <td>The Crawford Hotel</td>\n",
       "      <td>Anniversary Staycation</td>\n",
       "      <td>Husband and I booked the B&amp;B package for our 3...</td>\n",
       "      <td>4</td>\n",
       "    </tr>\n",
       "    <tr>\n",
       "      <th>2</th>\n",
       "      <td>Denver, CO</td>\n",
       "      <td>The Crawford Hotel</td>\n",
       "      <td>Birthday Getaway</td>\n",
       "      <td>We traveled from Emeryville, CA to Denver on t...</td>\n",
       "      <td>5</td>\n",
       "    </tr>\n",
       "    <tr>\n",
       "      <th>3</th>\n",
       "      <td>Denver, CO</td>\n",
       "      <td>The Crawford Hotel</td>\n",
       "      <td>A perfect staycation during the pandemic (and ...</td>\n",
       "      <td>We stayed at The Crawford the weekend before T...</td>\n",
       "      <td>5</td>\n",
       "    </tr>\n",
       "    <tr>\n",
       "      <th>4</th>\n",
       "      <td>Denver, CO</td>\n",
       "      <td>The Crawford Hotel</td>\n",
       "      <td>Incredible service - above and beyond!</td>\n",
       "      <td>Thoroughly enjoyed my stay at The Crawford! We...</td>\n",
       "      <td>5</td>\n",
       "    </tr>\n",
       "  </tbody>\n",
       "</table>\n",
       "</div>"
      ],
      "text/plain": [
       "     Location               Hotel  \\\n",
       "0  Denver, CO  The Crawford Hotel   \n",
       "1  Denver, CO  The Crawford Hotel   \n",
       "2  Denver, CO  The Crawford Hotel   \n",
       "3  Denver, CO  The Crawford Hotel   \n",
       "4  Denver, CO  The Crawford Hotel   \n",
       "\n",
       "                                               Title  \\\n",
       "0                                       WHAT A STAY!   \n",
       "1                             Anniversary Staycation   \n",
       "2                                   Birthday Getaway   \n",
       "3  A perfect staycation during the pandemic (and ...   \n",
       "4             Incredible service - above and beyond!   \n",
       "\n",
       "                                              Review  Rating  \n",
       "0  The Crawford Hotel was seriously the most uniq...       5  \n",
       "1  Husband and I booked the B&B package for our 3...       4  \n",
       "2  We traveled from Emeryville, CA to Denver on t...       5  \n",
       "3  We stayed at The Crawford the weekend before T...       5  \n",
       "4  Thoroughly enjoyed my stay at The Crawford! We...       5  "
      ]
     },
     "execution_count": 12,
     "metadata": {},
     "output_type": "execute_result"
    }
   ],
   "source": [
    "# Rename to hold a backup (so don't accidentally save over)\n",
    "df = base_df\n",
    "\n",
    "# Check full populated df\n",
    "df.head()"
   ]
  },
  {
   "cell_type": "code",
   "execution_count": 13,
   "metadata": {},
   "outputs": [
    {
     "data": {
      "text/plain": [
       "(1200, 5)"
      ]
     },
     "execution_count": 13,
     "metadata": {},
     "output_type": "execute_result"
    }
   ],
   "source": [
    "df.shape"
   ]
  },
  {
   "cell_type": "code",
   "execution_count": 14,
   "metadata": {},
   "outputs": [
    {
     "name": "stdout",
     "output_type": "stream",
     "text": [
      "The Crawford Hotel was seriously the most unique and beautiful hotels I have ever stayed in. My husband and I decided to stay here for our honeymoon and it certainly did not disappoint. From guest services answering our every need and the Tesla valet courtesy car service especially with Jamel and Riley as our drivers was amazing!!!! I can’t really say anything bad about this hotel whatsoever. Super quiet, super cozy, and outstandingly beautiful and romantic! \n",
      "\n",
      "Husband and I booked the B&B package for our 31st anniversary.  The hotel staff were warm, friendly, and professional.  Also I was able to update my reservation after a date mixup.  As mentioned by others in several reviews the hotel amenities are great and the rooms are beautifully decorated.  The experience overall was great with the exception of a few things:  1.  Being awaken early AM to loud noises which sounded like large doors being closed and metal clanging2.  Couldn’t figure out how to order breakfast from Snooze as it was not featured as a category on the iPad.  Called the front desk and they placed the order for us (thanks)!  However by the time the food arrived it was very cold.3. Upon checkout I sat in the great hall in the area reserved for hotel guests while I waited for my husband to return from the restroom.  We saw several people sitting in this area the night of our stay as well.  After about a minute of being seated, a security officer approached me and informed me that this area was for guests only and asked if I was a hotel guest of which I responded I was and then was asked to provide some sort of proof...hotel room number or key.  Since I had previously observed many others who had been seated there unapproached, I informed him that I wouldn’t provide him with such proof but that he could check with the front desk for verification.  After checking with the front desk he came back and apologized.  I understand the need to enforce the seating requirement however from my experience I felt highly offended.  Perhaps Crawford hotel could figure out a different way of enforcement. \n",
      "\n",
      "We traveled from Emeryville, CA to Denver on the Amtrak Zephyr. It was such a pleasure to get to a real hotel and bed! Anna and Jen at the front desk were marvelous. They put us in a corner spacious room on the balcony level. I love this hotel. Second time staying here and will be back again. Awesome bathroom, shower,  and whirlpool tub. Minutes from multiple restaurants so easy walking even in cold weather. \n",
      "\n",
      "We stayed at The Crawford the weekend before Thanksgiving to celebrate a 40th birthday and knew that with the pandemic most everything would be closed. So, we decided on a staycation to treat ourselves to some fancy and fun time away from home. The staff are so professional and accommodating, and special thanks go to Jordan (concierge) as she answered all our pre-trip questions, offered to schedule car services for us, and greeted us warmly in-person when we arrived. The amenities included in our stay made it fun because we got to take advantage of enjoying Union Station's full atmosphere (including the restaurants there that offer takeaway food and we even treated ourselves to the complimentary drink, coffee, and ice cream). The rooms are lovely, have very thoughtful touches (like disposable cameras), and gorgeous architecture and design so make it feel like a real getaway to a special hotel versus one of the many chains that don't offer much of an \"experience.\" As far as cleanliness and COVID-friendly, The Crawford was completely on top of it so it felt very safe, clean, and accommodating to anyone with underlying health conditions or otherwise simply trying to travel responsibly. The Crawford is a hotel I would highly recommend to anyone local and to anyone coming to Denver who wants an original experience, in a fun part of town, and values real customer service that makes you feel pampered and taken care of. Did I mention the free Tesla car service (within a 2-mile radius)? \n",
      "\n",
      "Thoroughly enjoyed my stay at The Crawford! We were staying there to celebrate my cousin’s 40th birthday and the staff was so incredibly kind and generous! Jordan at the front desk was so very helpful in making sure we had a great stay. She went above and beyond to accommodate additional requests. Top notch service. There were some great perks including the free Tesla rides within 2 miles (and the excellent driver Riley!) and free coffee and ice cream at Union Station. Enjoyed the fun Polaroid camera in each room too. Finally, very Covid safe and clean! Will definitely look to stay again when I’m in town. \n",
      "\n"
     ]
    }
   ],
   "source": [
    "# Preview review composition (ensure that they have been fully expanded)\n",
    "for r in df['Review'][0:5]:\n",
    "    print(r, \"\\n\")"
   ]
  },
  {
   "cell_type": "code",
   "execution_count": 15,
   "metadata": {},
   "outputs": [
    {
     "name": "stdout",
     "output_type": "stream",
     "text": [
      "Reviews: 1200\n",
      "Missing values? 0\n",
      "Hotels: 1\n"
     ]
    },
    {
     "data": {
      "text/plain": [
       "['The Crawford Hotel']"
      ]
     },
     "execution_count": 15,
     "metadata": {},
     "output_type": "execute_result"
    }
   ],
   "source": [
    "# Check df\n",
    "print(\"Reviews:\", df.shape[0])\n",
    "print(\"Missing values?\", df.isna().sum().sum())\n",
    "print(\"Hotels:\", df['Hotel'].nunique())\n",
    "list(df['Hotel'].unique())"
   ]
  },
  {
   "cell_type": "code",
   "execution_count": 20,
   "metadata": {},
   "outputs": [
    {
     "data": {
      "image/png": "[encoded data removed]",
      "text/plain": [
       "<Figure size 432x288 with 1 Axes>"
      ]
     },
     "metadata": {
      "needs_background": "light"
     },
     "output_type": "display_data"
    }
   ],
   "source": [
    "# Examine rating distribution\n",
    "df['Rating'].value_counts(normalize=True).plot(kind='bar', rot = 0, color= 'blue');\n",
    "plt.title(\"Distribution of Ratings\")\n",
    "plt.xlabel('Rating')\n",
    "plt.ylabel(\"Percent\")\n",
    "plt.show()"
   ]
  },
  {
   "cell_type": "markdown",
   "metadata": {},
   "source": [
    "### 2. 4 Save Scrape Data"
   ]
  },
  {
   "cell_type": "code",
   "execution_count": 128,
   "metadata": {},
   "outputs": [],
   "source": [
    "# Save\n",
    "#df.to_csv(\"./data/test_scrape_3.csv\", index=False)"
   ]
  },
  {
   "cell_type": "code",
   "execution_count": 129,
   "metadata": {},
   "outputs": [
    {
     "data": {
      "text/html": [
       "<div>\n",
       "<style scoped>\n",
       "    .dataframe tbody tr th:only-of-type {\n",
       "        vertical-align: middle;\n",
       "    }\n",
       "\n",
       "    .dataframe tbody tr th {\n",
       "        vertical-align: top;\n",
       "    }\n",
       "\n",
       "    .dataframe thead th {\n",
       "        text-align: right;\n",
       "    }\n",
       "</style>\n",
       "<table border=\"1\" class=\"dataframe\">\n",
       "  <thead>\n",
       "    <tr style=\"text-align: right;\">\n",
       "      <th></th>\n",
       "      <th>Location</th>\n",
       "      <th>Hotel</th>\n",
       "      <th>Title</th>\n",
       "      <th>Review</th>\n",
       "      <th>Rating</th>\n",
       "    </tr>\n",
       "  </thead>\n",
       "  <tbody>\n",
       "    <tr>\n",
       "      <th>0</th>\n",
       "      <td>Denver, CO</td>\n",
       "      <td>The Crawford Hotel</td>\n",
       "      <td>WHAT A STAY!</td>\n",
       "      <td>The Crawford Hotel was seriously the most uniq...</td>\n",
       "      <td>5</td>\n",
       "    </tr>\n",
       "    <tr>\n",
       "      <th>1</th>\n",
       "      <td>Denver, CO</td>\n",
       "      <td>The Crawford Hotel</td>\n",
       "      <td>Anniversary Staycation</td>\n",
       "      <td>Husband and I booked the B&amp;B package for our 3...</td>\n",
       "      <td>4</td>\n",
       "    </tr>\n",
       "    <tr>\n",
       "      <th>2</th>\n",
       "      <td>Denver, CO</td>\n",
       "      <td>The Crawford Hotel</td>\n",
       "      <td>Birthday Getaway</td>\n",
       "      <td>We traveled from Emeryville, CA to Denver on t...</td>\n",
       "      <td>5</td>\n",
       "    </tr>\n",
       "    <tr>\n",
       "      <th>3</th>\n",
       "      <td>Denver, CO</td>\n",
       "      <td>The Crawford Hotel</td>\n",
       "      <td>A perfect staycation during the pandemic (and ...</td>\n",
       "      <td>We stayed at The Crawford the weekend before T...</td>\n",
       "      <td>5</td>\n",
       "    </tr>\n",
       "    <tr>\n",
       "      <th>4</th>\n",
       "      <td>Denver, CO</td>\n",
       "      <td>The Crawford Hotel</td>\n",
       "      <td>Incredible service - above and beyond!</td>\n",
       "      <td>Thoroughly enjoyed my stay at The Crawford! We...</td>\n",
       "      <td>5</td>\n",
       "    </tr>\n",
       "  </tbody>\n",
       "</table>\n",
       "</div>"
      ],
      "text/plain": [
       "     Location               Hotel  \\\n",
       "0  Denver, CO  The Crawford Hotel   \n",
       "1  Denver, CO  The Crawford Hotel   \n",
       "2  Denver, CO  The Crawford Hotel   \n",
       "3  Denver, CO  The Crawford Hotel   \n",
       "4  Denver, CO  The Crawford Hotel   \n",
       "\n",
       "                                               Title  \\\n",
       "0                                       WHAT A STAY!   \n",
       "1                             Anniversary Staycation   \n",
       "2                                   Birthday Getaway   \n",
       "3  A perfect staycation during the pandemic (and ...   \n",
       "4             Incredible service - above and beyond!   \n",
       "\n",
       "                                              Review  Rating  \n",
       "0  The Crawford Hotel was seriously the most uniq...       5  \n",
       "1  Husband and I booked the B&B package for our 3...       4  \n",
       "2  We traveled from Emeryville, CA to Denver on t...       5  \n",
       "3  We stayed at The Crawford the weekend before T...       5  \n",
       "4  Thoroughly enjoyed my stay at The Crawford! We...       5  "
      ]
     },
     "execution_count": 129,
     "metadata": {},
     "output_type": "execute_result"
    }
   ],
   "source": [
    "# Check load\n",
    "check_df = pd.read_csv(\"./data/test_scrape_3.csv\")\n",
    "check_df.head()"
   ]
  },
  {
   "cell_type": "code",
   "execution_count": 130,
   "metadata": {},
   "outputs": [
    {
     "data": {
      "text/plain": [
       "(1200, 5)"
      ]
     },
     "execution_count": 130,
     "metadata": {},
     "output_type": "execute_result"
    }
   ],
   "source": [
    "# Looks good!\n",
    "check_df.shape"
   ]
  },
  {
   "cell_type": "markdown",
   "metadata": {},
   "source": [
    "## 3. Concatenate Many Scrapes\n",
    "\n",
    "### 3.1 Data/Scrape Descriptions\n",
    "\n",
    "- scrape_3 : 1200 from URL 4,\n",
    "        \n",
    "        'The Crawford Hotel'\n",
    "        \n",
    "- scrape_4 : 2000 from URL 5 - 6, \n",
    "    \n",
    "         'Baymont by Wyndham Denver International Airport',\n",
    "         'Grand Hyatt Denver Downtown'\n",
    "         \n",
    "- scrape_5: 3995 reviews from URL 7 - 10, \n",
    "\n",
    "         'Warwick Denver Hotel',\n",
    "         'The Westin Denver International Airport',\n",
    "         'Hyatt Place Denver/Cherry Creek',\n",
    "         'Microtel Inn & Suites by Wyndham Denver'\n",
    "\n",
    "- scrape_6: 3930 reviews from URL 1-4, (so there may be duplicates!)\n",
    "    \n",
    "         'Best Western Plus Denver International Airport Inn & Suites',\n",
    "         'Clarion Hotel Denver Central',\n",
    "         'La Quinta Inn & Suites by Wyndham Denver Airport Dia',\n",
    "         'The Crawford Hotel'\n",
    "         \n",
    "- scrape_8: 3000 from url 11 - 13,\n",
    "\n",
    "        'Hilton Denver City Center'\n",
    "        'Embassy Suites by Hilton Denver International Airport',\n",
    "        'The Oxford Hotel'\n",
    "\n",
    "- scrape_9: 9995 from URL 14 - 18,\n",
    "\n",
    "        'Hyatt Regency Denver At Colorado Convention Center',\n",
    "        'Baymont by Wyndham Denver International Airport',\n",
    "        'The Curtis Denver - a DoubleTree by Hilton Hotel',\n",
    "        'Sheraton Denver Downtown Hotel',\n",
    "        'DoubleTree by Hilton Hotel Denver'\n",
    "        \n",
    "- scrape_10: 1196 from URL 18-25\n",
    "        \n",
    "        'Quality Inn & Suites Denver International Airport',\n",
    "         'Comfort Inn & Suites',\n",
    "         'La Quinta Inn by Wyndham Denver Central',\n",
    "         '11th Avenue Hostel',\n",
    "         'Hampton Inn & Suites Denver Downtown',\n",
    "         'Sheraton Denver Downtown Hotel',\n",
    "         'Aloft Denver Downtown',\n",
    "         'Kimpton Hotel Monaco Denver'\n",
    "    "
   ]
  },
  {
   "cell_type": "markdown",
   "metadata": {},
   "source": [
    "### 3.2 Merge Selected Scrapes"
   ]
  },
  {
   "cell_type": "code",
   "execution_count": 4,
   "metadata": {},
   "outputs": [],
   "source": [
    "# Load all \n",
    "df_3 = pd.read_csv(\"./data/scrape_3.csv\")\n",
    "df_4 = pd.read_csv(\"./data/scrape_4.csv\")\n",
    "df_5 = pd.read_csv(\"./data/scrape_5.csv\")\n",
    "df_6 = pd.read_csv(\"./data/scrape_6.csv\")\n",
    "df_8 = pd.read_csv(\"./data/scrape_8.csv\")\n",
    "df_9 = pd.read_csv(\"./data/scrape_9.csv\")\n",
    "df_10 = pd.read_csv(\"./data/scrape_10.csv\")"
   ]
  },
  {
   "cell_type": "code",
   "execution_count": 6,
   "metadata": {},
   "outputs": [
    {
     "name": "stdout",
     "output_type": "stream",
     "text": [
      "9995\n",
      "3000\n",
      "3930\n",
      "3995\n",
      "2000\n",
      "1200\n",
      "1196\n"
     ]
    }
   ],
   "source": [
    "# Check sizes\n",
    "frames = [df_9, df_8, df_6, df_5, df_4, df_3, df_10]\n",
    "\n",
    "for i in frames:\n",
    "    print(i.shape[0])"
   ]
  },
  {
   "cell_type": "code",
   "execution_count": 7,
   "metadata": {},
   "outputs": [
    {
     "name": "stdout",
     "output_type": "stream",
     "text": [
      "<class 'pandas.core.frame.DataFrame'>\n",
      "Int64Index: 25316 entries, 0 to 1195\n",
      "Data columns (total 5 columns):\n",
      "Location    25316 non-null object\n",
      "Hotel       25316 non-null object\n",
      "Title       25315 non-null object\n",
      "Review      25316 non-null object\n",
      "Rating      25316 non-null int64\n",
      "dtypes: int64(1), object(4)\n",
      "memory usage: 1.2+ MB\n"
     ]
    }
   ],
   "source": [
    "# Merge\n",
    "full_df = pd.concat(frames)\n",
    "full_df.info()"
   ]
  },
  {
   "cell_type": "markdown",
   "metadata": {},
   "source": [
    "### 3.3 Check Merge and Clean"
   ]
  },
  {
   "cell_type": "code",
   "execution_count": 8,
   "metadata": {},
   "outputs": [
    {
     "name": "stdout",
     "output_type": "stream",
     "text": [
      "24\n"
     ]
    },
    {
     "data": {
      "text/plain": [
       "array(['Hyatt Regency Denver At Colorado Convention Center',\n",
       "       'Baymont by Wyndham Denver International Airport',\n",
       "       'The Curtis Denver - a DoubleTree by Hilton Hotel',\n",
       "       'Sheraton Denver Downtown Hotel',\n",
       "       'DoubleTree by Hilton Hotel Denver',\n",
       "       'Embassy Suites by Hilton Denver International Airport',\n",
       "       'The Oxford Hotel', 'Hilton Denver City Center',\n",
       "       'Best Western Plus Denver International Airport Inn & Suites',\n",
       "       'Clarion Hotel Denver Central',\n",
       "       'La Quinta Inn & Suites by Wyndham Denver Airport Dia',\n",
       "       'The Crawford Hotel', 'Warwick Denver Hotel',\n",
       "       'The Westin Denver International Airport',\n",
       "       'Hyatt Place Denver/Cherry Creek',\n",
       "       'Microtel Inn & Suites by Wyndham Denver',\n",
       "       'Grand Hyatt Denver Downtown',\n",
       "       'Quality Inn & Suites Denver International Airport',\n",
       "       'Comfort Inn & Suites', 'La Quinta Inn by Wyndham Denver Central',\n",
       "       '11th Avenue Hostel', 'Hampton Inn & Suites Denver Downtown',\n",
       "       'Aloft Denver Downtown', 'Kimpton Hotel Monaco Denver'],\n",
       "      dtype=object)"
      ]
     },
     "execution_count": 8,
     "metadata": {},
     "output_type": "execute_result"
    }
   ],
   "source": [
    "# Ensure all hotels represented (24)\n",
    "print(full_df['Hotel'].nunique())\n",
    "full_df['Hotel'].unique()"
   ]
  },
  {
   "cell_type": "code",
   "execution_count": 9,
   "metadata": {},
   "outputs": [
    {
     "name": "stdout",
     "output_type": "stream",
     "text": [
      "Duplicates: 2752\n",
      "Duplicate check: 0\n",
      "\n",
      " NaN Check:\n",
      " Location    0\n",
      "Hotel       0\n",
      "Title       1\n",
      "Review      0\n",
      "Rating      0\n",
      "dtype: int64\n"
     ]
    }
   ],
   "source": [
    "# Check for duplicates\n",
    "print(\"Duplicates:\", full_df.duplicated().sum())\n",
    "clean_df = full_df.drop_duplicates()\n",
    "print(\"Duplicate check:\", clean_df.duplicated().sum())\n",
    "\n",
    "# Check for NaN\n",
    "print(\"\\n NaN Check:\\n\", full_df.isna().sum())\n",
    "clean_df = clean_df.dropna()"
   ]
  },
  {
   "cell_type": "code",
   "execution_count": 10,
   "metadata": {},
   "outputs": [
    {
     "name": "stdout",
     "output_type": "stream",
     "text": [
      "<class 'pandas.core.frame.DataFrame'>\n",
      "Int64Index: 22563 entries, 0 to 1190\n",
      "Data columns (total 5 columns):\n",
      "Location    22563 non-null object\n",
      "Hotel       22563 non-null object\n",
      "Title       22563 non-null object\n",
      "Review      22563 non-null object\n",
      "Rating      22563 non-null int64\n",
      "dtypes: int64(1), object(4)\n",
      "memory usage: 1.0+ MB\n"
     ]
    }
   ],
   "source": [
    "# Shape / NaN check\n",
    "clean_df.info()"
   ]
  },
  {
   "cell_type": "code",
   "execution_count": 11,
   "metadata": {},
   "outputs": [
    {
     "data": {
      "image/png": "[encoded data removed]",
      "text/plain": [
       "<Figure size 432x288 with 1 Axes>"
      ]
     },
     "metadata": {
      "needs_background": "light"
     },
     "output_type": "display_data"
    }
   ],
   "source": [
    "# Examine rating distribution\n",
    "clean_df['Rating'].value_counts().plot(kind='bar', rot = 0);\n",
    "plt.title(\"Distribution of Ratings\")\n",
    "plt.xlabel('Rating')\n",
    "plt.ylabel(\"Percent\")\n",
    "plt.show()"
   ]
  },
  {
   "cell_type": "markdown",
   "metadata": {},
   "source": [
    "## 4. Export Final Data"
   ]
  },
  {
   "cell_type": "code",
   "execution_count": 12,
   "metadata": {},
   "outputs": [],
   "source": [
    "# Save as one file\n",
    "#clean_df.to_csv(\"./data/clean_scrape.csv\", index=False)"
   ]
  },
  {
   "cell_type": "code",
   "execution_count": 13,
   "metadata": {},
   "outputs": [
    {
     "name": "stdout",
     "output_type": "stream",
     "text": [
      "(22563, 5)\n"
     ]
    },
    {
     "data": {
      "text/html": [
       "<div>\n",
       "<style scoped>\n",
       "    .dataframe tbody tr th:only-of-type {\n",
       "        vertical-align: middle;\n",
       "    }\n",
       "\n",
       "    .dataframe tbody tr th {\n",
       "        vertical-align: top;\n",
       "    }\n",
       "\n",
       "    .dataframe thead th {\n",
       "        text-align: right;\n",
       "    }\n",
       "</style>\n",
       "<table border=\"1\" class=\"dataframe\">\n",
       "  <thead>\n",
       "    <tr style=\"text-align: right;\">\n",
       "      <th></th>\n",
       "      <th>Location</th>\n",
       "      <th>Hotel</th>\n",
       "      <th>Title</th>\n",
       "      <th>Review</th>\n",
       "      <th>Rating</th>\n",
       "    </tr>\n",
       "  </thead>\n",
       "  <tbody>\n",
       "    <tr>\n",
       "      <th>0</th>\n",
       "      <td>Denver, CO</td>\n",
       "      <td>Hyatt Regency Denver At Colorado Convention Ce...</td>\n",
       "      <td>Great View</td>\n",
       "      <td>Easy check in and check out process using the ...</td>\n",
       "      <td>5</td>\n",
       "    </tr>\n",
       "    <tr>\n",
       "      <th>1</th>\n",
       "      <td>Denver, CO</td>\n",
       "      <td>Hyatt Regency Denver At Colorado Convention Ce...</td>\n",
       "      <td>Clean and Comfortable</td>\n",
       "      <td>We needed a last-minute place to stay in Denve...</td>\n",
       "      <td>5</td>\n",
       "    </tr>\n",
       "    <tr>\n",
       "      <th>2</th>\n",
       "      <td>Denver, CO</td>\n",
       "      <td>Hyatt Regency Denver At Colorado Convention Ce...</td>\n",
       "      <td>Excellent Staff &amp; Service</td>\n",
       "      <td>We love Hyatt hotels and have had many great e...</td>\n",
       "      <td>5</td>\n",
       "    </tr>\n",
       "    <tr>\n",
       "      <th>3</th>\n",
       "      <td>Denver, CO</td>\n",
       "      <td>Hyatt Regency Denver At Colorado Convention Ce...</td>\n",
       "      <td>Trip to Denver - a Hallmark Christmas</td>\n",
       "      <td>I have never encountered such helpful, friendl...</td>\n",
       "      <td>5</td>\n",
       "    </tr>\n",
       "    <tr>\n",
       "      <th>4</th>\n",
       "      <td>Denver, CO</td>\n",
       "      <td>Hyatt Regency Denver At Colorado Convention Ce...</td>\n",
       "      <td>Our 'see downtown' hotel</td>\n",
       "      <td>We love it here! Great service, they usually r...</td>\n",
       "      <td>5</td>\n",
       "    </tr>\n",
       "  </tbody>\n",
       "</table>\n",
       "</div>"
      ],
      "text/plain": [
       "     Location                                              Hotel  \\\n",
       "0  Denver, CO  Hyatt Regency Denver At Colorado Convention Ce...   \n",
       "1  Denver, CO  Hyatt Regency Denver At Colorado Convention Ce...   \n",
       "2  Denver, CO  Hyatt Regency Denver At Colorado Convention Ce...   \n",
       "3  Denver, CO  Hyatt Regency Denver At Colorado Convention Ce...   \n",
       "4  Denver, CO  Hyatt Regency Denver At Colorado Convention Ce...   \n",
       "\n",
       "                                   Title  \\\n",
       "0                             Great View   \n",
       "1                  Clean and Comfortable   \n",
       "2              Excellent Staff & Service   \n",
       "3  Trip to Denver - a Hallmark Christmas   \n",
       "4               Our 'see downtown' hotel   \n",
       "\n",
       "                                              Review  Rating  \n",
       "0  Easy check in and check out process using the ...       5  \n",
       "1  We needed a last-minute place to stay in Denve...       5  \n",
       "2  We love Hyatt hotels and have had many great e...       5  \n",
       "3  I have never encountered such helpful, friendl...       5  \n",
       "4  We love it here! Great service, they usually r...       5  "
      ]
     },
     "execution_count": 13,
     "metadata": {},
     "output_type": "execute_result"
    }
   ],
   "source": [
    "# Check load\n",
    "total_df = pd.read_csv(\"./data/clean_scrape.csv\")\n",
    "print(total_df.shape)\n",
    "total_df.head()"
   ]
  },
  {
   "cell_type": "markdown",
   "metadata": {},
   "source": [
    "Continue to data analysis at this link: [`NLP_and_modeling.ipynb`](./NLP_and_modeling.ipynb)"
   ]
  },
  {
   "cell_type": "code",
   "execution_count": null,
   "metadata": {},
   "outputs": [],
   "source": []
  }
 ],
 "metadata": {
  "kernelspec": {
   "display_name": "Python 3",
   "language": "python",
   "name": "python3"
  },
  "language_info": {
   "codemirror_mode": {
    "name": "ipython",
    "version": 3
   },
   "file_extension": ".py",
   "mimetype": "text/x-python",
   "name": "python",
   "nbconvert_exporter": "python",
   "pygments_lexer": "ipython3",
   "version": "3.6.9"
  }
 },
 "nbformat": 4,
 "nbformat_minor": 4
}
