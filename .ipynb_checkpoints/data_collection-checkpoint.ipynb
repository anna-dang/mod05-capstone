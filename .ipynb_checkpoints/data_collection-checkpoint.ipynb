{
 "cells": [
  {
   "cell_type": "markdown",
   "metadata": {},
   "source": [
    "### Hotel Review Classifier (working title)\n",
    "\n",
    "*Flatiron School Data Science Bootcamp*\n",
    "\n",
    "Captsone Project - NLP Sentiment/Ratings Analysis\n",
    "\n",
    "Anna D'Angela | [annaadangela@gmail.com](annaadangela@gmail.com)\n",
    "\n",
    "[Return to GitHub](https://github.com/anna-dang/mod05-capstone)\n"
   ]
  },
  {
   "cell_type": "markdown",
   "metadata": {},
   "source": [
    "# TODO\n",
    "\n",
    "- continue gathering -- strategy??\n",
    "- figure out which 'stale' exception catch works ---- update parsh URL in 'scratch' to exam each element -- save updated\n",
    "- try function with less wait time for selenium"
   ]
  },
  {
   "cell_type": "code",
   "execution_count": 11,
   "metadata": {},
   "outputs": [
    {
     "name": "stdout",
     "output_type": "stream",
     "text": [
      "The autoreload extension is already loaded. To reload it, use:\n",
      "  %reload_ext autoreload\n"
     ]
    }
   ],
   "source": [
    "# Auto - reload custom function library\n",
    "%load_ext autoreload\n",
    "%autoreload 2"
   ]
  },
  {
   "cell_type": "code",
   "execution_count": 12,
   "metadata": {},
   "outputs": [],
   "source": [
    "# Import libraries\n",
    "from re import compile, split\n",
    "from bs4 import BeautifulSoup\n",
    "from selenium import webdriver\n",
    "from time import sleep, time\n",
    "\n",
    "import pandas as pd\n",
    "import matplotlib.pyplot as plt\n",
    "%matplotlib inline\n",
    "\n",
    "# Custom functions\n",
    "import collection_functions as cf"
   ]
  },
  {
   "cell_type": "markdown",
   "metadata": {},
   "source": [
    "# Data Collection\n",
    "\n",
    "The Trip Advisor home page of selected hotels will be stored seperately as a text file to keep this notebook tidy.\n",
    "I will scrape 1000 reviews from 10 hotels in the Denver, Colorado metro area. I manaually confirmed the hotels had at least that many reviews as I collected their urls.\n",
    "\n",
    "How I decided which hotels: \n",
    "\n",
    "Mid-range hotels with a standard average nightly rate under $200/night (at time of scrape, January 2021). I selected nighly rated properties and low rated to try and gather a balanced distribution of rating classes.\n",
    "\n",
    "Runtimes observed:\n",
    "\n",
    "    - 5 minutes per 50pgs. \n",
    "    - 8-10 min per 100pgs. \n",
    "    - 12 min per 150pgs. \n",
    "    - 18 minutes for 200pgs.\n",
    "    - 60 minutes for 800pgs - 4000 reviews"
   ]
  },
  {
   "cell_type": "markdown",
   "metadata": {},
   "source": [
    "### Scrape website"
   ]
  },
  {
   "cell_type": "code",
   "execution_count": 25,
   "metadata": {},
   "outputs": [
    {
     "name": "stdout",
     "output_type": "stream",
     "text": [
      "10\n"
     ]
    },
    {
     "data": {
      "text/plain": [
       "['/Hotel_Review-g33388-d85364-Reviews-Best_Western_Plus_Denver_International_Airport_Inn_Suites-Denver_Colorado.html',\n",
       " '/Hotel_Review-g33388-d81026-Reviews-Clarion_Hotel_Denver_Central-Denver_Colorado.html',\n",
       " '/Hotel_Review-g33388-d85368-Reviews-La_Quinta_Inn_Suites_by_Wyndham_Denver_Airport_Dia-Denver_Colorado.html',\n",
       " '/Hotel_Review-g33388-d6577001-Reviews-The_Crawford_Hotel-Denver_Colorado.html',\n",
       " '/Hotel_Review-g33388-d1653655-Reviews-Baymont_by_Wyndham_Denver_International_Airport-Denver_Colorado.html']"
      ]
     },
     "execution_count": 25,
     "metadata": {},
     "output_type": "execute_result"
    }
   ],
   "source": [
    "# Import hotel homepage extensions as a list \n",
    "with open(\"scrape_1_urls.txt\", \"r\") as scrape_1_urls:\n",
    "    hotel_homepage_urls = scrape_1_urls.read().splitlines()\n",
    "\n",
    "# Remove white space caused by 'splitlines'\n",
    "hotel_homepage_urls = [i for i in hotel_homepage_urls if i]\n",
    "\n",
    "# Check format and length\n",
    "print(len(hotel_homepage_urls))\n",
    "hotel_homepage_urls[:5]"
   ]
  },
  {
   "cell_type": "code",
   "execution_count": 47,
   "metadata": {},
   "outputs": [
    {
     "data": {
      "text/html": [
       "<div>\n",
       "<style scoped>\n",
       "    .dataframe tbody tr th:only-of-type {\n",
       "        vertical-align: middle;\n",
       "    }\n",
       "\n",
       "    .dataframe tbody tr th {\n",
       "        vertical-align: top;\n",
       "    }\n",
       "\n",
       "    .dataframe thead th {\n",
       "        text-align: right;\n",
       "    }\n",
       "</style>\n",
       "<table border=\"1\" class=\"dataframe\">\n",
       "  <thead>\n",
       "    <tr style=\"text-align: right;\">\n",
       "      <th></th>\n",
       "      <th>Location</th>\n",
       "      <th>Hotel</th>\n",
       "      <th>Title</th>\n",
       "      <th>Review</th>\n",
       "      <th>Rating</th>\n",
       "    </tr>\n",
       "  </thead>\n",
       "  <tbody>\n",
       "  </tbody>\n",
       "</table>\n",
       "</div>"
      ],
      "text/plain": [
       "Empty DataFrame\n",
       "Columns: [Location, Hotel, Title, Review, Rating]\n",
       "Index: []"
      ]
     },
     "execution_count": 47,
     "metadata": {},
     "output_type": "execute_result"
    }
   ],
   "source": [
    "# Create a base df to populate with hotel information\n",
    "base_df = pd.DataFrame(columns = ['Location', 'Hotel', 'Title', 'Review', 'Rating']) \n",
    "base_df"
   ]
  },
  {
   "cell_type": "code",
   "execution_count": null,
   "metadata": {
    "scrolled": true
   },
   "outputs": [
    {
     "name": "stdout",
     "output_type": "stream",
     "text": [
      "Hotel 1\n",
      "click bool\n",
      "page\n",
      "click bool\n",
      "page\n",
      "click bool\n",
      "page\n",
      "click bool\n",
      "page\n",
      "click bool\n",
      "page\n",
      "click bool\n",
      "page\n",
      "click bool\n",
      "page\n",
      "click bool\n",
      "page\n",
      "click bool\n",
      "page\n",
      "click bool\n",
      "page\n",
      "click bool\n",
      "page\n",
      "click bool\n",
      "page\n",
      "click bool\n",
      "page\n",
      "click bool\n",
      "page\n",
      "click bool\n",
      "page\n",
      "click bool\n",
      "page\n",
      "click bool\n",
      "page\n",
      "click bool\n",
      "page\n",
      "click bool\n",
      "page\n",
      "click bool\n",
      "page\n",
      "click bool\n",
      "page\n",
      "click bool\n",
      "page\n",
      "click bool\n",
      "page\n",
      "click bool\n",
      "page\n",
      "click bool\n",
      "page\n",
      "click bool\n",
      "page\n",
      "click bool\n",
      "page\n",
      "click bool\n",
      "page\n",
      "click bool\n",
      "page\n",
      "click bool\n",
      "page\n",
      "click bool\n",
      "page\n",
      "click bool\n",
      "page\n",
      "click bool\n",
      "page\n",
      "click bool\n",
      "page\n",
      "click bool\n",
      "page\n",
      "click bool\n",
      "page\n",
      "click bool\n",
      "page\n",
      "click bool\n",
      "page\n",
      "click bool\n",
      "page\n",
      "click bool\n",
      "page\n",
      "click bool\n",
      "page\n",
      "click bool\n",
      "page\n",
      "click bool\n",
      "page\n",
      "click bool\n",
      "page\n",
      "click bool\n",
      "page\n",
      "click bool\n",
      "page\n",
      "click bool\n",
      "page\n",
      "click bool\n",
      "page\n",
      "page\n",
      "click bool\n",
      "page\n",
      "click bool\n",
      "page\n",
      "click bool\n",
      "page\n",
      "click bool\n",
      "page\n",
      "click bool\n",
      "page\n",
      "click bool\n",
      "page\n",
      "click bool\n",
      "page\n",
      "click bool\n",
      "page\n",
      "page\n",
      "click bool\n",
      "page\n",
      "click bool\n",
      "page\n",
      "click bool\n",
      "page\n",
      "click bool\n",
      "page\n",
      "click bool\n",
      "page\n",
      "click bool\n",
      "page\n",
      "click bool\n",
      "page\n",
      "click bool\n",
      "page\n",
      "click bool\n",
      "page\n",
      "click bool\n",
      "page\n",
      "click bool\n",
      "page\n",
      "click bool\n",
      "page\n",
      "click bool\n",
      "page\n",
      "click bool\n",
      "page\n",
      "click bool\n",
      "page\n",
      "click bool\n",
      "page\n",
      "click bool\n",
      "page\n",
      "click bool\n",
      "page\n",
      "click bool\n",
      "page\n",
      "click bool\n",
      "page\n",
      "click bool\n",
      "page\n",
      "click bool\n",
      "page\n",
      "page\n",
      "click bool\n",
      "page\n",
      "click bool\n",
      "page\n",
      "click bool\n",
      "page\n",
      "click bool\n",
      "page\n",
      "click bool\n",
      "page\n",
      "click bool\n",
      "page\n",
      "click bool\n",
      "page\n",
      "click bool\n",
      "page\n",
      "click bool\n",
      "page\n",
      "click bool\n",
      "page\n",
      "click bool\n",
      "page\n",
      "click bool\n",
      "page\n",
      "click bool\n",
      "page\n",
      "click bool\n",
      "page\n",
      "click bool\n",
      "page\n",
      "click bool\n",
      "page\n",
      "click bool\n",
      "page\n",
      "click bool\n",
      "page\n",
      "click bool\n",
      "page\n",
      "click bool\n",
      "page\n",
      "click bool\n",
      "page\n",
      "click bool\n",
      "page\n",
      "click bool\n",
      "page\n",
      "click bool\n",
      "page\n",
      "click bool\n",
      "page\n",
      "click bool\n",
      "page\n",
      "click bool\n",
      "page\n",
      "click bool\n",
      "page\n",
      "click bool\n",
      "page\n",
      "click bool\n",
      "page\n",
      "click bool\n",
      "page\n",
      "click bool\n",
      "page\n",
      "click bool\n",
      "page\n",
      "click bool\n",
      "page\n",
      "click bool\n",
      "page\n",
      "click bool\n",
      "page\n",
      "click bool\n",
      "page\n",
      "click bool\n",
      "page\n",
      "click bool\n",
      "page\n",
      "click bool\n",
      "page\n",
      "click bool\n",
      "page\n",
      "click bool\n",
      "page\n",
      "click bool\n",
      "page\n",
      "click bool\n",
      "page\n",
      "click bool\n",
      "page\n",
      "click bool\n",
      "page\n",
      "click bool\n",
      "page\n",
      "click bool\n",
      "page\n",
      "click bool\n",
      "page\n",
      "click bool\n",
      "page\n",
      "click bool\n",
      "page\n",
      "click bool\n",
      "page\n",
      "click bool\n",
      "page\n",
      "click bool\n",
      "page\n",
      "click bool\n",
      "page\n",
      "click bool\n",
      "page\n",
      "click bool\n",
      "page\n",
      "click bool\n",
      "page\n",
      "click bool\n",
      "page\n",
      "click bool\n",
      "page\n",
      "click bool\n",
      "page\n",
      "click bool\n",
      "page\n",
      "click bool\n",
      "page\n",
      "click bool\n",
      "page\n"
     ]
    }
   ],
   "source": [
    "# Scrape hotels in list, record runtimes\n",
    "start_time = time()\n",
    "time_list = []\n",
    "\n",
    "for i, hotel_url in enumerate(hotel_homepage_urls[:4]):\n",
    "    \n",
    "    print(\"--- Hotel \", i+1, \" ---\")\n",
    "    \n",
    "    start_run = time()\n",
    "    \n",
    "    hotel_df = cf.scrape_hotel(hotel_url, n=200)\n",
    "    \n",
    "    base_df = pd.concat([base_df, hotel_df])\n",
    "    \n",
    "    run_time = round((time() - start_run)/60, 2)\n",
    "    \n",
    "    print(f\"--- Run {i+1} complete:\", run_time, \"minutes ---\")\n",
    "    \n",
    "    time_list.append(time_list)\n",
    "    \n",
    "    # To avoid getting booted\n",
    "    sleep(3)\n",
    "\n",
    "full_run_time = time() - start_time\n",
    "\n",
    "# Rename to hold a backup (so don't accidentally save over)\n",
    "df = base_df"
   ]
  },
  {
   "cell_type": "code",
   "execution_count": 57,
   "metadata": {},
   "outputs": [
    {
     "name": "stdout",
     "output_type": "stream",
     "text": [
      "63.38 minutes\n"
     ]
    }
   ],
   "source": [
    "# Total scrape runtime\n",
    "print(round(full_run_time/60, 2), \"minutes\")"
   ]
  },
  {
   "cell_type": "markdown",
   "metadata": {},
   "source": [
    "### Check data"
   ]
  },
  {
   "cell_type": "code",
   "execution_count": 60,
   "metadata": {},
   "outputs": [
    {
     "data": {
      "text/html": [
       "<div>\n",
       "<style scoped>\n",
       "    .dataframe tbody tr th:only-of-type {\n",
       "        vertical-align: middle;\n",
       "    }\n",
       "\n",
       "    .dataframe tbody tr th {\n",
       "        vertical-align: top;\n",
       "    }\n",
       "\n",
       "    .dataframe thead th {\n",
       "        text-align: right;\n",
       "    }\n",
       "</style>\n",
       "<table border=\"1\" class=\"dataframe\">\n",
       "  <thead>\n",
       "    <tr style=\"text-align: right;\">\n",
       "      <th></th>\n",
       "      <th>Location</th>\n",
       "      <th>Hotel</th>\n",
       "      <th>Title</th>\n",
       "      <th>Review</th>\n",
       "      <th>Rating</th>\n",
       "    </tr>\n",
       "  </thead>\n",
       "  <tbody>\n",
       "    <tr>\n",
       "      <th>0</th>\n",
       "      <td>Denver, CO</td>\n",
       "      <td>Warwick Denver Hotel</td>\n",
       "      <td>FIND SOMEWHERE ELSE!!!!</td>\n",
       "      <td>This hotel was a disappointment to say the lea...</td>\n",
       "      <td>1</td>\n",
       "    </tr>\n",
       "    <tr>\n",
       "      <th>1</th>\n",
       "      <td>Denver, CO</td>\n",
       "      <td>Warwick Denver Hotel</td>\n",
       "      <td>Some rooms not as good as others</td>\n",
       "      <td>We always get executive suite, these rooms are...</td>\n",
       "      <td>3</td>\n",
       "    </tr>\n",
       "    <tr>\n",
       "      <th>2</th>\n",
       "      <td>Denver, CO</td>\n",
       "      <td>Warwick Denver Hotel</td>\n",
       "      <td>Made our birthday trip suck</td>\n",
       "      <td>My husband and I took the chance to visit Colo...</td>\n",
       "      <td>2</td>\n",
       "    </tr>\n",
       "    <tr>\n",
       "      <th>3</th>\n",
       "      <td>Denver, CO</td>\n",
       "      <td>Warwick Denver Hotel</td>\n",
       "      <td>Warwick Hotel</td>\n",
       "      <td>My boyfriend and I decided to get away and enj...</td>\n",
       "      <td>5</td>\n",
       "    </tr>\n",
       "    <tr>\n",
       "      <th>4</th>\n",
       "      <td>Denver, CO</td>\n",
       "      <td>Warwick Denver Hotel</td>\n",
       "      <td>Anniversary stay at Warwick Hotel in Denver</td>\n",
       "      <td>Customer service was great checking in. Checke...</td>\n",
       "      <td>2</td>\n",
       "    </tr>\n",
       "  </tbody>\n",
       "</table>\n",
       "</div>"
      ],
      "text/plain": [
       "     Location                 Hotel  \\\n",
       "0  Denver, CO  Warwick Denver Hotel   \n",
       "1  Denver, CO  Warwick Denver Hotel   \n",
       "2  Denver, CO  Warwick Denver Hotel   \n",
       "3  Denver, CO  Warwick Denver Hotel   \n",
       "4  Denver, CO  Warwick Denver Hotel   \n",
       "\n",
       "                                         Title  \\\n",
       "0                      FIND SOMEWHERE ELSE!!!!   \n",
       "1             Some rooms not as good as others   \n",
       "2                  Made our birthday trip suck   \n",
       "3                                Warwick Hotel   \n",
       "4  Anniversary stay at Warwick Hotel in Denver   \n",
       "\n",
       "                                              Review Rating  \n",
       "0  This hotel was a disappointment to say the lea...      1  \n",
       "1  We always get executive suite, these rooms are...      3  \n",
       "2  My husband and I took the chance to visit Colo...      2  \n",
       "3  My boyfriend and I decided to get away and enj...      5  \n",
       "4  Customer service was great checking in. Checke...      2  "
      ]
     },
     "execution_count": 60,
     "metadata": {},
     "output_type": "execute_result"
    }
   ],
   "source": [
    "# Check full populated df\n",
    "df.head()"
   ]
  },
  {
   "cell_type": "code",
   "execution_count": 61,
   "metadata": {},
   "outputs": [
    {
     "name": "stdout",
     "output_type": "stream",
     "text": [
      "This hotel was a disappointment to say the least. The pictures make this hotel seem luxurious and top notch, however this is far from it. From the shooting that happened while we were there (no one staying was informed...we saw the news man outside our window recording so we turned on the tv to see what happened) to stained bed/pillows, this hotel was a mess. I don’t have issue with marijuana, but if you do or have kids, this is not the place for you. Although they do make you agree to not smoke and sign a form during check in, during my stay no one seemed to follow that rule and it reeked of weed in my room most days. Lastly, I don’t know if people didn’t know where to put their room service dishes after they were finished, but there were plates of food in the hallways for over 24 hours before anyone cleaned up. I would definitely check out other hotels in the area because The Warwick Denver is not what it is made to seem and I would probably give them a 1/2 star if it were an option. \n",
      "\n",
      "We always get executive suite, these rooms are usually GREAT ! Not this time. We got room high floor, 12th. not as nice as some others. We never had hot water.Bed was soft lumpy,time to be relaced Staff was GREAT, Pool is GREAT, Fitness room is GREAT. Just some rooms not as good as others \n",
      "\n",
      "My husband and I took the chance to visit Colorado for the first time to celebrate our birthday. Bad idea.  When we checked in the hotel seems cool and clean enough, nice lobby.  Get to the room....and...crumbs everywhere on the seat in front of the bed and on the nightstands.  1st strike.....go back down they gave us another room, this was ok until we stayed the night.  The bathroom fan in the room was a hole in the ceiling and it didn’t work.  The Keurig was dirty even after three rounds of running water through.  The iron leaked water. The ac unit on the wall was dirty had to clean with my wipes.  The bathroom shower had mold.  So the next day they showed us a few more rooms we didn’t like any of the three other.  They said they would fix the vent and clean the room if we left for a hour. We left for a few hours and came back and NOTHING had been done!  Call down again and they said oh we were going to send you to another room because they can’t fix the vent.  Ugh.  We looked at three more rooms....they set us in a suite which was a little better because it had a seating area.  Oh I forgot to say EVERY BED IS HARD AS A ROCK!  This room had only one trash can. Oh yea and they don’t have liners...  They have a small fridge stacked with drinks they want you to buy but no pricing around.  I called the front desk and found they wer $3 and up!  No price list in rooms at all.  Ok the restaurant....over priced pizza!!  We spent $75/on three drinks a pizza and McDonald’s (look alike) truffle fries. Waste of money!  There is no place to parka few out front with meters...2 hour limits.  Everything is closed up around the hotel and boarded up and is scary.  There are homeless people EVERYWHERE! Not their fault but it is so sad. Oh and if you buy marijuana you can’t smoke it anywhere.... but back to the hotel...  As we are in our new room we spent a day in the mountains and called for housekeeping before we left around 10 am...they said they will send someone up.  We got back around 5 that evening.....NOTHING was cleaned at all!  Called downstairs and they said we are so sorry but house has left for the day.  WTW!  Thanks for nothing Warwick. Oh yeah you can hear everything through the walls. \n",
      "\n",
      "My boyfriend and I decided to get away and enjoy our selves for a night at The Warwick Hotel. Right away we visited their beautiful rooftop pool and after our swim we went to the restaurant here Gattara, and our waiter Brendan was awesome. His charisma was as amazing as the food. We woke up and decided to stay another night. \n",
      "\n",
      "Customer service was great checking in. Checked in and told we have the best room (Premier King Suite). The next up is the highest they have which is the Presidential Suite which were completely booked (there are only two). Was provided a coupon for a free drink at the restaurant onsite. All good until the room. Upon walking into the room, we were unimpressed. The room is very dated and has stains on the walls, holes in the walls, dirty trash cans, pictures hanging sideways on the wall. There's only one remote for both tvs. Smallest tub/shower I've ever seen in a so called upscale hotel. Toilet paper holder falling off the wall. No travel guide book for guest in the room. Promptly went to the front desk as stated the obvious. I was told thats how all the rooms are. REALLY!!! Then the balcony (horrible view of an old brick building)...Why have a balcony you can't enjoy a cigar on. Its outside for a reason yet other guests were smoking Marijuana right outside the entryway of the hotel. This hotel is a joke and definitely not worth $220 a night plus additiinal fees. I would not recommend my worst enemy to stay here and waste their money. Never will I stay here again. Can't believe I became a member of this dumpster of a hotel. Paid for the staycation package, should have just stayed AWAY. Ruined our anniversary stay. The only good that will came out of this, we get to spend quality time together on our anniversary. Just sucks its in an overpriced dirt box.Tosha G. \n",
      "\n"
     ]
    }
   ],
   "source": [
    "# Preview review composition (ensure that they have been fully expanded)\n",
    "for r in df['Review'][0:5]:\n",
    "    print(r, \"\\n\")"
   ]
  },
  {
   "cell_type": "code",
   "execution_count": 62,
   "metadata": {},
   "outputs": [
    {
     "name": "stdout",
     "output_type": "stream",
     "text": [
      "Reviews: 3995\n",
      "Hotels: 4\n",
      "Missing values? 0\n"
     ]
    }
   ],
   "source": [
    "# Check df\n",
    "print(\"Reviews:\", df.shape[0])\n",
    "print(\"Missing values?\", df.isna().sum().sum())\n",
    "print(\"Hotels:\", df['Hotel'].nunique())\n",
    "list(df['Hotel'].unique())"
   ]
  },
  {
   "cell_type": "code",
   "execution_count": 64,
   "metadata": {},
   "outputs": [
    {
     "data": {
      "image/png": "[encoded data removed]",
      "text/plain": [
       "<Figure size 432x288 with 1 Axes>"
      ]
     },
     "metadata": {
      "needs_background": "light"
     },
     "output_type": "display_data"
    }
   ],
   "source": [
    "# Examine rating distribution\n",
    "df['Rating'].value_counts(normalize=True).plot(kind='bar', rot = 0);\n",
    "plt.title(\"Distribution of Ratings\")\n",
    "plt.xlabel('Rating')\n",
    "plt.ylabel(\"Percent\")\n",
    "plt.show()"
   ]
  },
  {
   "cell_type": "markdown",
   "metadata": {},
   "source": [
    "### Save data"
   ]
  },
  {
   "cell_type": "code",
   "execution_count": 65,
   "metadata": {},
   "outputs": [],
   "source": [
    "# Save\n",
    "df.to_csv(\"./data/test_scrape_5.csv\", index=False)"
   ]
  },
  {
   "cell_type": "code",
   "execution_count": 66,
   "metadata": {},
   "outputs": [
    {
     "data": {
      "text/html": [
       "<div>\n",
       "<style scoped>\n",
       "    .dataframe tbody tr th:only-of-type {\n",
       "        vertical-align: middle;\n",
       "    }\n",
       "\n",
       "    .dataframe tbody tr th {\n",
       "        vertical-align: top;\n",
       "    }\n",
       "\n",
       "    .dataframe thead th {\n",
       "        text-align: right;\n",
       "    }\n",
       "</style>\n",
       "<table border=\"1\" class=\"dataframe\">\n",
       "  <thead>\n",
       "    <tr style=\"text-align: right;\">\n",
       "      <th></th>\n",
       "      <th>Location</th>\n",
       "      <th>Hotel</th>\n",
       "      <th>Title</th>\n",
       "      <th>Review</th>\n",
       "      <th>Rating</th>\n",
       "    </tr>\n",
       "  </thead>\n",
       "  <tbody>\n",
       "    <tr>\n",
       "      <th>0</th>\n",
       "      <td>Denver, CO</td>\n",
       "      <td>Warwick Denver Hotel</td>\n",
       "      <td>FIND SOMEWHERE ELSE!!!!</td>\n",
       "      <td>This hotel was a disappointment to say the lea...</td>\n",
       "      <td>1</td>\n",
       "    </tr>\n",
       "    <tr>\n",
       "      <th>1</th>\n",
       "      <td>Denver, CO</td>\n",
       "      <td>Warwick Denver Hotel</td>\n",
       "      <td>Some rooms not as good as others</td>\n",
       "      <td>We always get executive suite, these rooms are...</td>\n",
       "      <td>3</td>\n",
       "    </tr>\n",
       "    <tr>\n",
       "      <th>2</th>\n",
       "      <td>Denver, CO</td>\n",
       "      <td>Warwick Denver Hotel</td>\n",
       "      <td>Made our birthday trip suck</td>\n",
       "      <td>My husband and I took the chance to visit Colo...</td>\n",
       "      <td>2</td>\n",
       "    </tr>\n",
       "    <tr>\n",
       "      <th>3</th>\n",
       "      <td>Denver, CO</td>\n",
       "      <td>Warwick Denver Hotel</td>\n",
       "      <td>Warwick Hotel</td>\n",
       "      <td>My boyfriend and I decided to get away and enj...</td>\n",
       "      <td>5</td>\n",
       "    </tr>\n",
       "    <tr>\n",
       "      <th>4</th>\n",
       "      <td>Denver, CO</td>\n",
       "      <td>Warwick Denver Hotel</td>\n",
       "      <td>Anniversary stay at Warwick Hotel in Denver</td>\n",
       "      <td>Customer service was great checking in. Checke...</td>\n",
       "      <td>2</td>\n",
       "    </tr>\n",
       "  </tbody>\n",
       "</table>\n",
       "</div>"
      ],
      "text/plain": [
       "     Location                 Hotel  \\\n",
       "0  Denver, CO  Warwick Denver Hotel   \n",
       "1  Denver, CO  Warwick Denver Hotel   \n",
       "2  Denver, CO  Warwick Denver Hotel   \n",
       "3  Denver, CO  Warwick Denver Hotel   \n",
       "4  Denver, CO  Warwick Denver Hotel   \n",
       "\n",
       "                                         Title  \\\n",
       "0                      FIND SOMEWHERE ELSE!!!!   \n",
       "1             Some rooms not as good as others   \n",
       "2                  Made our birthday trip suck   \n",
       "3                                Warwick Hotel   \n",
       "4  Anniversary stay at Warwick Hotel in Denver   \n",
       "\n",
       "                                              Review  Rating  \n",
       "0  This hotel was a disappointment to say the lea...       1  \n",
       "1  We always get executive suite, these rooms are...       3  \n",
       "2  My husband and I took the chance to visit Colo...       2  \n",
       "3  My boyfriend and I decided to get away and enj...       5  \n",
       "4  Customer service was great checking in. Checke...       2  "
      ]
     },
     "execution_count": 66,
     "metadata": {},
     "output_type": "execute_result"
    }
   ],
   "source": [
    "# Check load\n",
    "check_df = pd.read_csv(\"./data/test_scrape_5.csv\")\n",
    "check_df.head()"
   ]
  },
  {
   "cell_type": "code",
   "execution_count": null,
   "metadata": {},
   "outputs": [],
   "source": [
    "# Looks good!"
   ]
  },
  {
   "cell_type": "markdown",
   "metadata": {},
   "source": [
    "# Concat many scrapes\n",
    "\n",
    "- test_data : 2,500 Detroit hotel reviews gathered during function building\n",
    "        \n",
    "        'Motor City Casino'\n",
    "        'The Siren'\n",
    "        'aLoft'\n",
    "        'Westin Book Cadillac'\n",
    "        'The Foundation Hotel'\n",
    "\n",
    "Denver reviews:\n",
    "- test_scrape_1 : 300 from url 2, work on bugs \n",
    "        \n",
    "        'Clarion Hotel'\n",
    "- test_scrape_2 : 500 from url 3, test time outs\n",
    "        \n",
    "        'La Quinta'\n",
    "- test_scrape_3 : 750 from url 4, correct time outs\n",
    "        \n",
    "        'The Crawford Hotel'\n",
    "- test_scrape_4 : 2000 from url 5 - 6, \n",
    "    \n",
    "         'Baymont by Wyndham Denver International Airport',\n",
    "         'Grand Hyatt Denver Downtown', cruisin'! green light\n",
    "- test_scrape_5: 3995 Denver reviews from url 7 - 10, \n",
    "\n",
    "         'Warwick Denver Hotel',\n",
    "         'The Westin Denver International Airport',\n",
    "         'Hyatt Place Denver/Cherry Creek',\n",
    "         'Microtel Inn & Suites by Wyndham Denver'"
   ]
  },
  {
   "cell_type": "code",
   "execution_count": null,
   "metadata": {},
   "outputs": [],
   "source": [
    "# load all "
   ]
  },
  {
   "cell_type": "code",
   "execution_count": null,
   "metadata": {},
   "outputs": [],
   "source": [
    "# concat"
   ]
  },
  {
   "cell_type": "code",
   "execution_count": null,
   "metadata": {},
   "outputs": [],
   "source": [
    "# check df"
   ]
  },
  {
   "cell_type": "code",
   "execution_count": null,
   "metadata": {},
   "outputs": [],
   "source": [
    "# duplicates?"
   ]
  },
  {
   "cell_type": "markdown",
   "metadata": {},
   "source": [
    "### Export final data"
   ]
  },
  {
   "cell_type": "code",
   "execution_count": null,
   "metadata": {},
   "outputs": [],
   "source": [
    "# save as one file"
   ]
  },
  {
   "cell_type": "code",
   "execution_count": null,
   "metadata": {},
   "outputs": [],
   "source": [
    "# check load"
   ]
  }
 ],
 "metadata": {
  "kernelspec": {
   "display_name": "Python 3",
   "language": "python",
   "name": "python3"
  },
  "language_info": {
   "codemirror_mode": {
    "name": "ipython",
    "version": 3
   },
   "file_extension": ".py",
   "mimetype": "text/x-python",
   "name": "python",
   "nbconvert_exporter": "python",
   "pygments_lexer": "ipython3",
   "version": "3.6.9"
  }
 },
 "nbformat": 4,
 "nbformat_minor": 4
}
