{
 "cells": [
  {
   "cell_type": "markdown",
   "metadata": {},
   "source": [
    "### Hotel Review Classifier (working title)\n",
    "\n",
    "*Flatiron School Data Science Bootcamp*\n",
    "\n",
    "Captsone Project - NLP Sentiment/Ratings Analysis\n",
    "\n",
    "Anna D'Angela | [annaadangela@gmail.com](annaadangela@gmail.com)\n",
    "\n",
    "[Return to GitHub](https://github.com/anna-dang/mod05-capstone)\n"
   ]
  },
  {
   "cell_type": "markdown",
   "metadata": {},
   "source": [
    "# TODO\n",
    "- upgrade plot design\n",
    "- EDA : heat map of data sources\n",
    "- train/test split\n",
    "- actual NLP...\n",
    "- visuals: word cloud, freq dist, etc.\n",
    "- baseline model "
   ]
  },
  {
   "cell_type": "code",
   "execution_count": 1,
   "metadata": {},
   "outputs": [],
   "source": [
    "import pandas as pd\n",
    "import matplotlib.pyplot as plt\n",
    "%matplotlib inline"
   ]
  },
  {
   "cell_type": "markdown",
   "metadata": {},
   "source": [
    "### Import data and EDA"
   ]
  },
  {
   "cell_type": "code",
   "execution_count": 2,
   "metadata": {},
   "outputs": [
    {
     "data": {
      "text/html": [
       "<div>\n",
       "<style scoped>\n",
       "    .dataframe tbody tr th:only-of-type {\n",
       "        vertical-align: middle;\n",
       "    }\n",
       "\n",
       "    .dataframe tbody tr th {\n",
       "        vertical-align: top;\n",
       "    }\n",
       "\n",
       "    .dataframe thead th {\n",
       "        text-align: right;\n",
       "    }\n",
       "</style>\n",
       "<table border=\"1\" class=\"dataframe\">\n",
       "  <thead>\n",
       "    <tr style=\"text-align: right;\">\n",
       "      <th></th>\n",
       "      <th>Location</th>\n",
       "      <th>Hotel</th>\n",
       "      <th>Title</th>\n",
       "      <th>Review</th>\n",
       "      <th>Rating</th>\n",
       "    </tr>\n",
       "  </thead>\n",
       "  <tbody>\n",
       "    <tr>\n",
       "      <th>0</th>\n",
       "      <td>Detroit, MI</td>\n",
       "      <td>The Siren Hotel</td>\n",
       "      <td>Absolute stunner in best location</td>\n",
       "      <td>I have stayed at the siren multiple times - I ...</td>\n",
       "      <td>5</td>\n",
       "    </tr>\n",
       "    <tr>\n",
       "      <th>1</th>\n",
       "      <td>Detroit, MI</td>\n",
       "      <td>The Siren Hotel</td>\n",
       "      <td>Wonderful</td>\n",
       "      <td>Had a great time at The Siren Hotel. The lobby...</td>\n",
       "      <td>5</td>\n",
       "    </tr>\n",
       "    <tr>\n",
       "      <th>2</th>\n",
       "      <td>Detroit, MI</td>\n",
       "      <td>The Siren Hotel</td>\n",
       "      <td>Beautiful hotel</td>\n",
       "      <td>The Siren hotel is located in the heart of dow...</td>\n",
       "      <td>5</td>\n",
       "    </tr>\n",
       "    <tr>\n",
       "      <th>3</th>\n",
       "      <td>Detroit, MI</td>\n",
       "      <td>The Siren Hotel</td>\n",
       "      <td>5 stars, Best Detroit hotel!</td>\n",
       "      <td>Had a great time at The Siren, a building I re...</td>\n",
       "      <td>5</td>\n",
       "    </tr>\n",
       "    <tr>\n",
       "      <th>4</th>\n",
       "      <td>Detroit, MI</td>\n",
       "      <td>The Siren Hotel</td>\n",
       "      <td>Amazing</td>\n",
       "      <td>Great hotel,Danny at the front desk was amazin...</td>\n",
       "      <td>5</td>\n",
       "    </tr>\n",
       "  </tbody>\n",
       "</table>\n",
       "</div>"
      ],
      "text/plain": [
       "      Location            Hotel                              Title  \\\n",
       "0  Detroit, MI  The Siren Hotel  Absolute stunner in best location   \n",
       "1  Detroit, MI  The Siren Hotel                          Wonderful   \n",
       "2  Detroit, MI  The Siren Hotel                    Beautiful hotel   \n",
       "3  Detroit, MI  The Siren Hotel       5 stars, Best Detroit hotel!   \n",
       "4  Detroit, MI  The Siren Hotel                            Amazing   \n",
       "\n",
       "                                              Review  Rating  \n",
       "0  I have stayed at the siren multiple times - I ...       5  \n",
       "1  Had a great time at The Siren Hotel. The lobby...       5  \n",
       "2  The Siren hotel is located in the heart of dow...       5  \n",
       "3  Had a great time at The Siren, a building I re...       5  \n",
       "4  Great hotel,Danny at the front desk was amazin...       5  "
      ]
     },
     "metadata": {},
     "output_type": "display_data"
    },
    {
     "name": "stdout",
     "output_type": "stream",
     "text": [
      "<class 'pandas.core.frame.DataFrame'>\n",
      "RangeIndex: 2500 entries, 0 to 2499\n",
      "Data columns (total 5 columns):\n",
      " #   Column    Non-Null Count  Dtype \n",
      "---  ------    --------------  ----- \n",
      " 0   Location  2500 non-null   object\n",
      " 1   Hotel     2500 non-null   object\n",
      " 2   Title     2500 non-null   object\n",
      " 3   Review    2500 non-null   object\n",
      " 4   Rating    2500 non-null   int64 \n",
      "dtypes: int64(1), object(4)\n",
      "memory usage: 97.8+ KB\n"
     ]
    }
   ],
   "source": [
    "# import test data\n",
    "df_raw = pd.read_csv(\"./data/test_data.csv\")\n",
    "display(df_raw.head())\n",
    "\n",
    "# check for null/value types\n",
    "df_raw.info()"
   ]
  },
  {
   "cell_type": "code",
   "execution_count": 36,
   "metadata": {},
   "outputs": [
    {
     "data": {
      "image/png": "[encoded data removed]",
      "text/plain": [
       "<Figure size 432x288 with 1 Axes>"
      ]
     },
     "metadata": {
      "needs_background": "light"
     },
     "output_type": "display_data"
    }
   ],
   "source": [
    "# Examine class distribution\n",
    "df_raw['Rating'].value_counts().plot(kind='bar', rot = 0);\n",
    "plt.title(\"Distribution of Ratings\")\n",
    "plt.xlabel('Rating')\n",
    "plt.ylabel(\"Count\")\n",
    "plt.show()"
   ]
  },
  {
   "cell_type": "code",
   "execution_count": 37,
   "metadata": {},
   "outputs": [
    {
     "data": {
      "text/plain": [
       "5    0.6020\n",
       "4    0.2348\n",
       "3    0.0864\n",
       "2    0.0424\n",
       "1    0.0344\n",
       "Name: Rating, dtype: float64"
      ]
     },
     "execution_count": 37,
     "metadata": {},
     "output_type": "execute_result"
    }
   ],
   "source": [
    "# Examine imbalance as percentages\n",
    "percent = df_raw['Rating'].value_counts(normalize=True)\n",
    "percent"
   ]
  },
  {
   "cell_type": "code",
   "execution_count": 48,
   "metadata": {},
   "outputs": [
    {
     "data": {
      "text/html": [
       "<div>\n",
       "<style scoped>\n",
       "    .dataframe tbody tr th:only-of-type {\n",
       "        vertical-align: middle;\n",
       "    }\n",
       "\n",
       "    .dataframe tbody tr th {\n",
       "        vertical-align: top;\n",
       "    }\n",
       "\n",
       "    .dataframe thead th {\n",
       "        text-align: right;\n",
       "    }\n",
       "</style>\n",
       "<table border=\"1\" class=\"dataframe\">\n",
       "  <thead>\n",
       "    <tr style=\"text-align: right;\">\n",
       "      <th></th>\n",
       "      <th>Review</th>\n",
       "    </tr>\n",
       "    <tr>\n",
       "      <th>Location</th>\n",
       "      <th></th>\n",
       "    </tr>\n",
       "  </thead>\n",
       "  <tbody>\n",
       "    <tr>\n",
       "      <th>Detroit, MI</th>\n",
       "      <td>2500</td>\n",
       "    </tr>\n",
       "  </tbody>\n",
       "</table>\n",
       "</div>"
      ],
      "text/plain": [
       "             Review\n",
       "Location           \n",
       "Detroit, MI    2500"
      ]
     },
     "execution_count": 48,
     "metadata": {},
     "output_type": "execute_result"
    }
   ],
   "source": [
    "# Examine distribution by location (test data all from Detroit)\n",
    "df_raw.groupby('Location')[['Review']].count()"
   ]
  },
  {
   "cell_type": "code",
   "execution_count": 51,
   "metadata": {},
   "outputs": [
    {
     "data": {
      "text/html": [
       "<div>\n",
       "<style scoped>\n",
       "    .dataframe tbody tr th:only-of-type {\n",
       "        vertical-align: middle;\n",
       "    }\n",
       "\n",
       "    .dataframe tbody tr th {\n",
       "        vertical-align: top;\n",
       "    }\n",
       "\n",
       "    .dataframe thead th {\n",
       "        text-align: right;\n",
       "    }\n",
       "</style>\n",
       "<table border=\"1\" class=\"dataframe\">\n",
       "  <thead>\n",
       "    <tr style=\"text-align: right;\">\n",
       "      <th></th>\n",
       "      <th>Review</th>\n",
       "    </tr>\n",
       "    <tr>\n",
       "      <th>Hotel</th>\n",
       "      <th></th>\n",
       "    </tr>\n",
       "  </thead>\n",
       "  <tbody>\n",
       "    <tr>\n",
       "      <th>Aloft Detroit at The David Whitney</th>\n",
       "      <td>375</td>\n",
       "    </tr>\n",
       "    <tr>\n",
       "      <th>Detroit Foundation Hotel</th>\n",
       "      <td>500</td>\n",
       "    </tr>\n",
       "    <tr>\n",
       "      <th>MotorCity Casino Hotel</th>\n",
       "      <td>625</td>\n",
       "    </tr>\n",
       "    <tr>\n",
       "      <th>The Siren Hotel</th>\n",
       "      <td>250</td>\n",
       "    </tr>\n",
       "    <tr>\n",
       "      <th>The Westin Book Cadillac Detroit</th>\n",
       "      <td>750</td>\n",
       "    </tr>\n",
       "  </tbody>\n",
       "</table>\n",
       "</div>"
      ],
      "text/plain": [
       "                                    Review\n",
       "Hotel                                     \n",
       "Aloft Detroit at The David Whitney     375\n",
       "Detroit Foundation Hotel               500\n",
       "MotorCity Casino Hotel                 625\n",
       "The Siren Hotel                        250\n",
       "The Westin Book Cadillac Detroit       750"
      ]
     },
     "execution_count": 51,
     "metadata": {},
     "output_type": "execute_result"
    }
   ],
   "source": [
    "# Examine distribution by location (test data all from Detroit)\n",
    "df_raw.groupby('Hotel')[['Review']].count()"
   ]
  },
  {
   "cell_type": "code",
   "execution_count": 38,
   "metadata": {},
   "outputs": [
    {
     "data": {
      "text/html": [
       "<div>\n",
       "<style scoped>\n",
       "    .dataframe tbody tr th:only-of-type {\n",
       "        vertical-align: middle;\n",
       "    }\n",
       "\n",
       "    .dataframe tbody tr th {\n",
       "        vertical-align: top;\n",
       "    }\n",
       "\n",
       "    .dataframe thead th {\n",
       "        text-align: right;\n",
       "    }\n",
       "</style>\n",
       "<table border=\"1\" class=\"dataframe\">\n",
       "  <thead>\n",
       "    <tr style=\"text-align: right;\">\n",
       "      <th></th>\n",
       "      <th>Location</th>\n",
       "      <th>Hotel</th>\n",
       "      <th>Title</th>\n",
       "      <th>Review</th>\n",
       "      <th>Rating</th>\n",
       "    </tr>\n",
       "  </thead>\n",
       "  <tbody>\n",
       "    <tr>\n",
       "      <th>0</th>\n",
       "      <td>Detroit, MI</td>\n",
       "      <td>The Siren Hotel</td>\n",
       "      <td>Absolute stunner in best location</td>\n",
       "      <td>Absolute stunner in best location I have staye...</td>\n",
       "      <td>5</td>\n",
       "    </tr>\n",
       "    <tr>\n",
       "      <th>1</th>\n",
       "      <td>Detroit, MI</td>\n",
       "      <td>The Siren Hotel</td>\n",
       "      <td>Wonderful</td>\n",
       "      <td>Wonderful Had a great time at The Siren Hotel....</td>\n",
       "      <td>5</td>\n",
       "    </tr>\n",
       "    <tr>\n",
       "      <th>2</th>\n",
       "      <td>Detroit, MI</td>\n",
       "      <td>The Siren Hotel</td>\n",
       "      <td>Beautiful hotel</td>\n",
       "      <td>Beautiful hotel The Siren hotel is located in ...</td>\n",
       "      <td>5</td>\n",
       "    </tr>\n",
       "    <tr>\n",
       "      <th>3</th>\n",
       "      <td>Detroit, MI</td>\n",
       "      <td>The Siren Hotel</td>\n",
       "      <td>5 stars, Best Detroit hotel!</td>\n",
       "      <td>5 stars, Best Detroit hotel! Had a great time ...</td>\n",
       "      <td>5</td>\n",
       "    </tr>\n",
       "    <tr>\n",
       "      <th>4</th>\n",
       "      <td>Detroit, MI</td>\n",
       "      <td>The Siren Hotel</td>\n",
       "      <td>Amazing</td>\n",
       "      <td>Amazing Great hotel,Danny at the front desk wa...</td>\n",
       "      <td>5</td>\n",
       "    </tr>\n",
       "  </tbody>\n",
       "</table>\n",
       "</div>"
      ],
      "text/plain": [
       "      Location            Hotel                              Title  \\\n",
       "0  Detroit, MI  The Siren Hotel  Absolute stunner in best location   \n",
       "1  Detroit, MI  The Siren Hotel                          Wonderful   \n",
       "2  Detroit, MI  The Siren Hotel                    Beautiful hotel   \n",
       "3  Detroit, MI  The Siren Hotel       5 stars, Best Detroit hotel!   \n",
       "4  Detroit, MI  The Siren Hotel                            Amazing   \n",
       "\n",
       "                                              Review  Rating  \n",
       "0  Absolute stunner in best location I have staye...       5  \n",
       "1  Wonderful Had a great time at The Siren Hotel....       5  \n",
       "2  Beautiful hotel The Siren hotel is located in ...       5  \n",
       "3  5 stars, Best Detroit hotel! Had a great time ...       5  \n",
       "4  Amazing Great hotel,Danny at the front desk wa...       5  "
      ]
     },
     "execution_count": 38,
     "metadata": {},
     "output_type": "execute_result"
    }
   ],
   "source": [
    "# combine 'Title' and 'Review' into one chucnk of text (seperate with a space)\n",
    "df_raw['Review'] = df_raw['Title'] + ' ' + df_raw['Review']\n",
    "df_raw.head()"
   ]
  },
  {
   "cell_type": "code",
   "execution_count": 39,
   "metadata": {},
   "outputs": [
    {
     "data": {
      "text/html": [
       "<div>\n",
       "<style scoped>\n",
       "    .dataframe tbody tr th:only-of-type {\n",
       "        vertical-align: middle;\n",
       "    }\n",
       "\n",
       "    .dataframe tbody tr th {\n",
       "        vertical-align: top;\n",
       "    }\n",
       "\n",
       "    .dataframe thead th {\n",
       "        text-align: right;\n",
       "    }\n",
       "</style>\n",
       "<table border=\"1\" class=\"dataframe\">\n",
       "  <thead>\n",
       "    <tr style=\"text-align: right;\">\n",
       "      <th></th>\n",
       "      <th>Review</th>\n",
       "      <th>Rating</th>\n",
       "    </tr>\n",
       "  </thead>\n",
       "  <tbody>\n",
       "    <tr>\n",
       "      <th>0</th>\n",
       "      <td>Absolute stunner in best location I have staye...</td>\n",
       "      <td>5</td>\n",
       "    </tr>\n",
       "    <tr>\n",
       "      <th>1</th>\n",
       "      <td>Wonderful Had a great time at The Siren Hotel....</td>\n",
       "      <td>5</td>\n",
       "    </tr>\n",
       "    <tr>\n",
       "      <th>2</th>\n",
       "      <td>Beautiful hotel The Siren hotel is located in ...</td>\n",
       "      <td>5</td>\n",
       "    </tr>\n",
       "    <tr>\n",
       "      <th>3</th>\n",
       "      <td>5 stars, Best Detroit hotel! Had a great time ...</td>\n",
       "      <td>5</td>\n",
       "    </tr>\n",
       "    <tr>\n",
       "      <th>4</th>\n",
       "      <td>Amazing Great hotel,Danny at the front desk wa...</td>\n",
       "      <td>5</td>\n",
       "    </tr>\n",
       "  </tbody>\n",
       "</table>\n",
       "</div>"
      ],
      "text/plain": [
       "                                              Review  Rating\n",
       "0  Absolute stunner in best location I have staye...       5\n",
       "1  Wonderful Had a great time at The Siren Hotel....       5\n",
       "2  Beautiful hotel The Siren hotel is located in ...       5\n",
       "3  5 stars, Best Detroit hotel! Had a great time ...       5\n",
       "4  Amazing Great hotel,Danny at the front desk wa...       5"
      ]
     },
     "execution_count": 39,
     "metadata": {},
     "output_type": "execute_result"
    }
   ],
   "source": [
    "# Drop columns uneeded for this analysis, save as working df\n",
    "df = df_raw.drop(columns = ['Location', 'Hotel', 'Title'])\n",
    "df.head()"
   ]
  },
  {
   "cell_type": "markdown",
   "metadata": {},
   "source": [
    "### Class Imbalance"
   ]
  },
  {
   "cell_type": "code",
   "execution_count": null,
   "metadata": {},
   "outputs": [],
   "source": [
    "# randomly under/over sample to balance classes\n",
    "\n",
    "# manually or do use 'class_weight = balanced'?"
   ]
  },
  {
   "cell_type": "markdown",
   "metadata": {},
   "source": [
    "### Train / Test Split"
   ]
  },
  {
   "cell_type": "code",
   "execution_count": null,
   "metadata": {},
   "outputs": [],
   "source": [
    "# Split BEFORE processsing to avoid leaking\n",
    "\n",
    "# Words in test but not in train - decode_error = ignore"
   ]
  },
  {
   "cell_type": "markdown",
   "metadata": {},
   "source": [
    "### NLP Preprocessing - build functions"
   ]
  },
  {
   "cell_type": "code",
   "execution_count": null,
   "metadata": {},
   "outputs": [],
   "source": [
    "# cleaning - remove punctuation, captialization, regex for conjunctions\n",
    "# more complex: count words with apostrophes as a single word\n",
    "pattern = \"([a-zA-Z]+(?:'[a-z]+)?)\""
   ]
  },
  {
   "cell_type": "code",
   "execution_count": null,
   "metadata": {},
   "outputs": [],
   "source": [
    "# stem or lemm to reduce words to base"
   ]
  },
  {
   "cell_type": "code",
   "execution_count": null,
   "metadata": {},
   "outputs": [],
   "source": [
    "# remove stops words, reduce dimensionality"
   ]
  },
  {
   "cell_type": "code",
   "execution_count": null,
   "metadata": {},
   "outputs": [],
   "source": [
    "# pull out hotel titles/names? make more generic?"
   ]
  },
  {
   "cell_type": "code",
   "execution_count": null,
   "metadata": {},
   "outputs": [],
   "source": [
    "# tokenize"
   ]
  },
  {
   "cell_type": "code",
   "execution_count": null,
   "metadata": {},
   "outputs": [],
   "source": [
    "# visual: freqeuncy distribution/N-grams"
   ]
  },
  {
   "cell_type": "code",
   "execution_count": null,
   "metadata": {},
   "outputs": [],
   "source": [
    "# vectorize - BOW"
   ]
  },
  {
   "cell_type": "code",
   "execution_count": null,
   "metadata": {},
   "outputs": [],
   "source": [
    "# examine sparce matrix"
   ]
  },
  {
   "cell_type": "code",
   "execution_count": null,
   "metadata": {},
   "outputs": [],
   "source": [
    "# TF-IDF - which words appear heavily in one class vs others"
   ]
  },
  {
   "cell_type": "code",
   "execution_count": null,
   "metadata": {},
   "outputs": [],
   "source": [
    "# EDA/visuals: word freq, word cloud, etc."
   ]
  },
  {
   "cell_type": "code",
   "execution_count": null,
   "metadata": {},
   "outputs": [],
   "source": [
    "# Optional ... EDA - compare sentiment libraries predictions to given rating - how \"accurate\" is it in this case?"
   ]
  },
  {
   "cell_type": "markdown",
   "metadata": {},
   "source": [
    "### Save data"
   ]
  },
  {
   "cell_type": "code",
   "execution_count": null,
   "metadata": {},
   "outputs": [],
   "source": [
    "# Save data"
   ]
  }
 ],
 "metadata": {
  "kernelspec": {
   "display_name": "learn-env",
   "language": "python",
   "name": "learn-env"
  },
  "language_info": {
   "codemirror_mode": {
    "name": "ipython",
    "version": 3
   },
   "file_extension": ".py",
   "mimetype": "text/x-python",
   "name": "python",
   "nbconvert_exporter": "python",
   "pygments_lexer": "ipython3",
   "version": "3.8.3"
  }
 },
 "nbformat": 4,
 "nbformat_minor": 4
}
