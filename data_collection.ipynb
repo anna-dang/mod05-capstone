{
 "cells": [
  {
   "cell_type": "markdown",
   "metadata": {},
   "source": [
    "### Hotel Review Classifier (working title)\n",
    "\n",
    "*Flatiron School Data Science Bootcamp*\n",
    "\n",
    "Captsone Project - NLP Sentiment/Ratings Analysis\n",
    "\n",
    "Anna D'Angela | [annaadangela@gmail.com](annaadangela@gmail.com)\n",
    "\n",
    "[Return to GitHub](https://github.com/anna-dang/mod05-capstone)\n"
   ]
  },
  {
   "cell_type": "markdown",
   "metadata": {},
   "source": [
    "# TODO\n",
    "\n",
    "- continue gathering to reach 25,000 reviews\n",
    "- try function with less wait time for selenium to speed it up\n",
    "- update url function to process mid range pages numbers (if \"-or(any # of digits)-), get that, extract number, convert to in and use as start number in range\n",
    "- upgrade plot design"
   ]
  },
  {
   "cell_type": "code",
   "execution_count": null,
   "metadata": {},
   "outputs": [],
   "source": [
    "# Auto - reload custom function library\n",
    "%load_ext autoreload\n",
    "%autoreload 2"
   ]
  },
  {
   "cell_type": "code",
   "execution_count": null,
   "metadata": {},
   "outputs": [],
   "source": [
    "# Import libraries\n",
    "from re import compile, split\n",
    "from bs4 import BeautifulSoup\n",
    "from selenium import webdriver\n",
    "from time import sleep, time\n",
    "\n",
    "import pandas as pd\n",
    "import matplotlib.pyplot as plt\n",
    "%matplotlib inline\n",
    "\n",
    "# Custom functions\n",
    "import collection_functions as cf"
   ]
  },
  {
   "cell_type": "markdown",
   "metadata": {},
   "source": [
    "# Data Collection\n",
    "\n",
    "The Trip Advisor home page of selected hotels will be stored seperately as a text file to keep this notebook tidy.\n",
    "I will scrape 1000 reviews from 10 hotels in the Denver, Colorado metro area. I manaually confirmed the hotels had at least that many reviews as I collected their urls.\n",
    "\n",
    "How I decided which hotels: \n",
    "\n",
    "Mid-range hotels with a standard average nightly rate under $200/night (at time of scrape, January 2021). I selected nighly rated properties and low rated to try and gather a balanced distribution of rating classes.\n",
    "\n",
    "Due to built it wait times for to avoid Selenium TimeOut Exceptions, long runtimes observed:\n",
    "\n",
    "    - 5 minutes per 50pgs \n",
    "    - 8-10 min per 100pgs\n",
    "    - 12 min per 150pgs\n",
    "    - 18 minutes for 200pgs\n",
    "    - 60 minutes for 800pgs - 4000 reviews"
   ]
  },
  {
   "cell_type": "markdown",
   "metadata": {},
   "source": [
    "### Scrape website"
   ]
  },
  {
   "cell_type": "code",
   "execution_count": null,
   "metadata": {},
   "outputs": [],
   "source": [
    "# Import hotel homepage extensions as a list \n",
    "with open(\"./data/denver_urls.txt\", \"r\") as scrape_1_urls:\n",
    "    hotel_homepage_urls = scrape_1_urls.read().splitlines()\n",
    "\n",
    "# Remove white space caused by 'splitlines'\n",
    "hotel_homepage_urls = [i for i in hotel_homepage_urls if i]\n",
    "\n",
    "# Check format and length\n",
    "print(len(hotel_homepage_urls))\n",
    "hotel_homepage_urls[10:13]"
   ]
  },
  {
   "cell_type": "code",
   "execution_count": null,
   "metadata": {},
   "outputs": [],
   "source": [
    "# Create a base df to populate with hotel information\n",
    "base_df = pd.DataFrame(columns = ['Location', 'Hotel', 'Title', 'Review', 'Rating']) \n",
    "base_df"
   ]
  },
  {
   "cell_type": "code",
   "execution_count": null,
   "metadata": {
    "scrolled": true
   },
   "outputs": [],
   "source": [
    "# Iterate through each hotel in list, record runtimes\n",
    "start_time = time()\n",
    "\n",
    "for i, hotel_url in enumerate(hotel_homepage_urls[10:13]):\n",
    "    \n",
    "    print(\"--- Hotel \", i+1, \" ---\")\n",
    "    \n",
    "    start_run = time()\n",
    "    \n",
    "    # Scrape each hotel for specified number of pages\n",
    "    hotel_df = cf.scrape_hotel(hotel_url, n=200)\n",
    "    \n",
    "    # Add to base df\n",
    "    base_df = pd.concat([base_df, hotel_df])\n",
    "    \n",
    "    # Calculation runtime\n",
    "    run_time = round((time() - start_run)/60, 2)\n",
    "    \n",
    "    print(f\"--- Run {i+1} complete:\", run_time, \"minutes ---\")\n",
    "    \n",
    "    # Avoid being booted\n",
    "    sleep(3)\n",
    "\n",
    "# Total run time\n",
    "full_run_time = time() - start_time\n",
    "\n",
    "# Rename to hold a backup (so don't accidentally save over)\n",
    "df = base_df"
   ]
  },
  {
   "cell_type": "code",
   "execution_count": null,
   "metadata": {},
   "outputs": [],
   "source": [
    "# Total scrape runtime\n",
    "print(round(full_run_time/60, 2), \"minutes\")"
   ]
  },
  {
   "cell_type": "markdown",
   "metadata": {},
   "source": [
    "### Check data"
   ]
  },
  {
   "cell_type": "code",
   "execution_count": null,
   "metadata": {},
   "outputs": [],
   "source": [
    "# Check full populated df\n",
    "base_df.head()"
   ]
  },
  {
   "cell_type": "code",
   "execution_count": null,
   "metadata": {},
   "outputs": [],
   "source": [
    "# Preview review composition (ensure that they have been fully expanded)\n",
    "for r in df['Review'][0:5]:\n",
    "    print(r, \"\\n\")"
   ]
  },
  {
   "cell_type": "code",
   "execution_count": null,
   "metadata": {},
   "outputs": [],
   "source": [
    "# Check df\n",
    "print(\"Reviews:\", df.shape[0])\n",
    "print(\"Missing values?\", df.isna().sum().sum())\n",
    "print(\"Hotels:\", df['Hotel'].nunique())\n",
    "list(df['Hotel'].unique())"
   ]
  },
  {
   "cell_type": "code",
   "execution_count": null,
   "metadata": {},
   "outputs": [],
   "source": [
    "# Examine rating distribution\n",
    "df['Rating'].value_counts(normalize=True).plot(kind='bar', rot = 0);\n",
    "plt.title(\"Distribution of Ratings\")\n",
    "plt.xlabel('Rating')\n",
    "plt.ylabel(\"Percent\")\n",
    "plt.show()"
   ]
  },
  {
   "cell_type": "markdown",
   "metadata": {},
   "source": [
    "### Save data"
   ]
  },
  {
   "cell_type": "code",
   "execution_count": null,
   "metadata": {},
   "outputs": [],
   "source": [
    "# Save\n",
    "df.to_csv(\"./data/test_scrape_6.csv\", index=False)"
   ]
  },
  {
   "cell_type": "code",
   "execution_count": null,
   "metadata": {},
   "outputs": [],
   "source": [
    "# Check load\n",
    "check_df = pd.read_csv(\"./data/test_scrape_6.csv\")\n",
    "check_df.head()"
   ]
  },
  {
   "cell_type": "code",
   "execution_count": null,
   "metadata": {},
   "outputs": [],
   "source": [
    "# Looks good!"
   ]
  },
  {
   "cell_type": "markdown",
   "metadata": {},
   "source": [
    "# Concat many scrapes\n",
    "\n",
    "- test_data : 2,500 Detroit hotel reviews gathered during function building\n",
    "        \n",
    "        'Motor City Casino'\n",
    "        'The Siren'\n",
    "        'aLoft'\n",
    "        'Westin Book Cadillac'\n",
    "        'The Foundation Hotel'\n",
    "\n",
    "Denver reviews:\n",
    "- test_scrape_1 : 300 from url 2, work on bugs \n",
    "        \n",
    "        'Clarion Hotel'\n",
    "- test_scrape_2 : 500 from url 3, test time outs\n",
    "        \n",
    "        'La Quinta'\n",
    "- test_scrape_3 : 750 from url 4, correct time outs\n",
    "        \n",
    "        'The Crawford Hotel'\n",
    "- test_scrape_4 : 2000 from url 5 - 6, \n",
    "    \n",
    "         'Baymont by Wyndham Denver International Airport',\n",
    "         'Grand Hyatt Denver Downtown', cruisin'! green light\n",
    "         \n",
    "- test_scrape_5: 3995 reviews from urls 7 - 10, \n",
    "\n",
    "         'Warwick Denver Hotel',\n",
    "         'The Westin Denver International Airport',\n",
    "         'Hyatt Place Denver/Cherry Creek',\n",
    "         'Microtel Inn & Suites by Wyndham Denver'\n",
    "\n",
    "- test_scrape_6: 3930 reviews from urls1-3\n",
    "    \n",
    "         'Best Western Plus Denver International Airport Inn & Suites',\n",
    "         'Clarion Hotel Denver Central',\n",
    "         'La Quinta Inn & Suites by Wyndham Denver Airport Dia',\n",
    "         'The Crawford Hotel'\n",
    "    "
   ]
  },
  {
   "cell_type": "code",
   "execution_count": null,
   "metadata": {},
   "outputs": [],
   "source": [
    "# load all "
   ]
  },
  {
   "cell_type": "code",
   "execution_count": null,
   "metadata": {},
   "outputs": [],
   "source": [
    "# concat\n",
    "# check df"
   ]
  },
  {
   "cell_type": "code",
   "execution_count": null,
   "metadata": {},
   "outputs": [],
   "source": [
    "# duplicates?"
   ]
  },
  {
   "cell_type": "code",
   "execution_count": null,
   "metadata": {},
   "outputs": [],
   "source": [
    "# empty strings / Null ?"
   ]
  },
  {
   "cell_type": "code",
   "execution_count": null,
   "metadata": {},
   "outputs": [],
   "source": [
    "# # Examine rating distribution\n",
    "df['Rating'].value_counts().plot(kind='bar', rot = 0);\n",
    "plt.title(\"Distribution of Ratings\")\n",
    "plt.xlabel('Rating')\n",
    "plt.ylabel(\"Percent\")\n",
    "plt.show()"
   ]
  },
  {
   "cell_type": "markdown",
   "metadata": {},
   "source": [
    "### Export final data"
   ]
  },
  {
   "cell_type": "code",
   "execution_count": null,
   "metadata": {},
   "outputs": [],
   "source": [
    "# save as one file"
   ]
  },
  {
   "cell_type": "code",
   "execution_count": null,
   "metadata": {},
   "outputs": [],
   "source": [
    "# check load"
   ]
  }
 ],
 "metadata": {
  "kernelspec": {
   "display_name": "Python 3",
   "language": "python",
   "name": "python3"
  },
  "language_info": {
   "codemirror_mode": {
    "name": "ipython",
    "version": 3
   },
   "file_extension": ".py",
   "mimetype": "text/x-python",
   "name": "python",
   "nbconvert_exporter": "python",
   "pygments_lexer": "ipython3",
   "version": "3.6.9"
  }
 },
 "nbformat": 4,
 "nbformat_minor": 4
}
